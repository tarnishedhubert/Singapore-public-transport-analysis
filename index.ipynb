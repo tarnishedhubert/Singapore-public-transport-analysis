{
 "cells": [
  {
   "attachments": {},
   "cell_type": "markdown",
   "metadata": {},
   "source": [
    "# CA2 DAVI Individual Assignment\n",
    "By:\n",
    "Hubert Heng Kheng Yeow,\n",
    "p2214494,\n",
    "DAAA1B02"
   ]
  },
  {
   "attachments": {},
   "cell_type": "markdown",
   "metadata": {},
   "source": [
    "## Title: \"Singapore public transport visualisation\""
   ]
  },
  {
   "attachments": {},
   "cell_type": "markdown",
   "metadata": {},
   "source": [
    "#### Objectives of the analysis:\n",
    "- Objective 1: To analyse the spread and density of the various public transportation in Singapore\n",
    "- Objective 2: To draw a correlation between the spread and densiy of the various public transportation and the variance in traffic congestion over time. Then we will implement some changes to public transport to reduce traffic congestion."
   ]
  },
  {
   "cell_type": "code",
   "execution_count": null,
   "metadata": {},
   "outputs": [],
   "source": [
    "import numpy as np\n",
    "import matplotlib.pyplot as plt\n",
    "import pandas as pd\n",
    "\n",
    "import seaborn as sns\n",
    "import plotly.express as px\n",
    "import plotly.graph_objects as go\n",
    "import geopandas as gpd\n",
    "from shapely.geometry import Point\n",
    "\n",
    "import json\n",
    "import urllib\n",
    "from urllib.parse import urlparse\n",
    "import httplib2 as http # External library\n",
    "import requests\n",
    "from zipfile import ZipFile"
   ]
  },
  {
   "cell_type": "markdown",
   "metadata": {},
   "source": [
    "## Step 1: Extracting the datasets"
   ]
  },
  {
   "attachments": {},
   "cell_type": "markdown",
   "metadata": {},
   "source": [
    "**NOTE** DO NOT RUN THE TWO CELLS BELOW TOO MANY TIMES, lta does not allow excessive API calls  \n",
    "If too many calls are made, lta will temporary prevent this account key from making another API call  \n",
    "The lta online datasets should already be downloaded"
   ]
  },
  {
   "cell_type": "code",
   "execution_count": null,
   "metadata": {},
   "outputs": [],
   "source": [
    "# Extracting online dymanic datasets from datamall2 by lta\n",
    "# passenger volume datasets\n",
    "dataset_paths = ['ltaodataservice/PV/Train', 'ltaodataservice/PV/Bus']\n",
    "file_names = ['train_passenger_volume', 'bus_passenger_volume']\n",
    "zipped_file_names = []\n",
    "\n",
    "if __name__ == \"__main__\":\n",
    "    for i in range(len(dataset_paths)):\n",
    "        # Authentication parameters\n",
    "        headers = {'AccountKey': '3fxd63A8QKq1SQb/3xF+ow==', # personal account key\n",
    "        'accept': 'application/json'}\n",
    "\n",
    "        # API parameters\n",
    "        uri = 'http://datamall2.mytransport.sg/'\n",
    "        path = dataset_paths[i]\n",
    "\n",
    "        # Build query string & specify type of API call\n",
    "        target = urlparse(uri + path)\n",
    "        method = 'GET'\n",
    "        body = ''\n",
    "\n",
    "        # Get handle to http\n",
    "        h = http.Http()\n",
    "\n",
    "        # Obtain results\n",
    "        response, content = h.request(\n",
    "            target.geturl(),\n",
    "            method,\n",
    "            body,\n",
    "            headers\n",
    "        )\n",
    "\n",
    "        # Parse JSON to print\n",
    "        jsonObj = json.loads(content)\n",
    "        link = jsonObj['value'][0]['Link']\n",
    "\n",
    "        # Open the link to download the zipped csv file\n",
    "        req = requests.get(link, allow_redirects=True)\n",
    "        file_name = file_names[i] + \".zip\"\n",
    "        with open(file_name, \"wb\") as f: # creating a new file\n",
    "            f.write(req.content) # write file sent from request\n",
    "            zipped_file_names.append(f.name) # append file names into list\n",
    "\n",
    "    for file_name in zipped_file_names:\n",
    "        with ZipFile(file_name, 'r') as zObject:\n",
    "            zObject.extractall(path=r\"C:\\Users\\huber\\OneDrive - Singapore Polytechnic\\Sp Year 1 Sem 2\\DAVI\\CA2\\DAAA1B02-2214494-HubertHeng\\Datasets\\passenger volume\")  \n",
    "else:\n",
    "    print(\"__name__ is not equal to __main__!\")"
   ]
  },
  {
   "cell_type": "code",
   "execution_count": null,
   "metadata": {},
   "outputs": [],
   "source": [
    "# location datasets (geodataframes)\n",
    "train_location = gpd.read_file('Datasets/location/TrainStation_Jan2022/MRTLRTStnPtt.shp')\n",
    "bus_location = gpd.read_file('Datasets/location/BusStopLocation_Jun2022/BusStop.shp')\n",
    "taxi_location = gpd.read_file('Datasets/location/TaxiStand_Jan2022/TaxiStop.shp')\n",
    "\n",
    "# passenger volume datasets\n",
    "train_passenger_vol = pd.read_csv('Datasets/passenger volume/transport_node_train_202212.csv')\n",
    "bus_passenger_vol = pd.read_csv('Datasets/passenger volume/transport_node_bus_202212.csv')\n",
    "\n",
    "# ridership dataset\n",
    "public_transport_ridership = pd.read_csv('Datasets/ridership/public-transport-utilisation-average-public-transport-ridership.csv')\n",
    "\n",
    "# population dataset\n",
    "bus_population = pd.read_csv(\"Datasets/population/MVP01-10_Bus_by_Pax.csv\")\n",
    "taxi_population = pd.read_csv(\"Datasets/population/monthly_taxi_fleet.csv\")"
   ]
  },
  {
   "cell_type": "markdown",
   "metadata": {},
   "source": [
    "## Step 2: Visualise the datasets before cleaning\n",
    "Check for any NaN values or unwanted data in the dataframes"
   ]
  },
  {
   "cell_type": "code",
   "execution_count": null,
   "metadata": {},
   "outputs": [],
   "source": [
    "datasets = [train_location, bus_location, taxi_location, train_passenger_vol, bus_passenger_vol, \n",
    "public_transport_ridership, bus_population, taxi_population]\n",
    "datasets_title = [\"**Train stations locations**\", \"**Bus stops locations**\", \"**Taxi stands locations**\", \"**Passenger volume by train station**\", \"**Passenger volume by bus stop**\", \n",
    "\"**Public transport ridership annually by type of transport**\", \"**Bus population in Singapore**\", \"**Taxi population in Singapore**\"]\n",
    "for i in range(len(datasets)):\n",
    "    print(datasets_title[i])\n",
    "    print(datasets[i].isna().sum())\n",
    "    print(\"\\n\")"
   ]
  },
  {
   "attachments": {},
   "cell_type": "markdown",
   "metadata": {},
   "source": [
    "It appears that the dataframes \"bus_location\" and \"taxi_location\" have some NaN values. Lets take a look at what this missing data are"
   ]
  },
  {
   "cell_type": "code",
   "execution_count": null,
   "metadata": {},
   "outputs": [],
   "source": [
    "datasets = [bus_location, taxi_location]\n",
    "datasets_title = [\"**Bus stops locations**\", \"**Taxi stands locations**\"]\n",
    "for i in range(len(datasets)):\n",
    "    print(datasets_title[i])\n",
    "    is_na = datasets[i].isna()\n",
    "    print(datasets[i][is_na.any(axis=1)])\n",
    "    print(\"\\n\")"
   ]
  },
  {
   "cell_type": "markdown",
   "metadata": {},
   "source": [
    "## Step 3: Cleaning the datasets\n",
    "Lets check the NaN values in each dataframe such that we can figure out how we are going to clean that dataframe.\n",
    "Lets start with the dataframe \"bus_location\" first."
   ]
  },
  {
   "cell_type": "code",
   "execution_count": null,
   "metadata": {},
   "outputs": [],
   "source": [
    "bus_location[\"LOC_DESC\"] = bus_location[\"LOC_DESC\"].fillna(\"No description\")\n",
    "bus_location.iloc[285]"
   ]
  },
  {
   "cell_type": "markdown",
   "metadata": {},
   "source": [
    "We will replace NaN with \"No description\" in the \"LOC_DESC\" column to indicate that there is no location description for the bus stop."
   ]
  },
  {
   "cell_type": "code",
   "execution_count": null,
   "metadata": {},
   "outputs": [],
   "source": [
    "bus_location[bus_location[\"BUS_ROOF_N\"] == \"NIL\"]\n",
    "bus_location[\"BUS_ROOF_N\"] = bus_location[\"BUS_ROOF_N\"].fillna(\"NIL\")"
   ]
  },
  {
   "cell_type": "markdown",
   "metadata": {},
   "source": [
    "There are numerous rows where the value in the \"BUS_ROOF_N\" is NIL. We will replace the NaN value in index 3305 with NIL too."
   ]
  },
  {
   "cell_type": "code",
   "execution_count": null,
   "metadata": {},
   "outputs": [],
   "source": [
    "bus_location.isna().sum()"
   ]
  },
  {
   "cell_type": "markdown",
   "metadata": {},
   "source": [
    "Now, we will move onto the next dataframe \"taxi_location\". For this dataframe, we will remove the column \"TYPE_CD\" as all the values in that column are NaN."
   ]
  },
  {
   "cell_type": "code",
   "execution_count": null,
   "metadata": {},
   "outputs": [],
   "source": [
    "taxi_location = taxi_location.drop(columns = ['TYPE_CD'])\n",
    "taxi_location.isna().sum()"
   ]
  },
  {
   "cell_type": "markdown",
   "metadata": {},
   "source": [
    "Now, lets find the indexes of the rows that contain NaN values in the column \"TYPE_CD_DE\"."
   ]
  },
  {
   "cell_type": "code",
   "execution_count": null,
   "metadata": {},
   "outputs": [],
   "source": [
    "taxi_location[taxi_location[\"TYPE_CD_DE\"].isna()]"
   ]
  },
  {
   "cell_type": "markdown",
   "metadata": {},
   "source": [
    "We will drop these rows."
   ]
  },
  {
   "cell_type": "markdown",
   "metadata": {},
   "source": [
    "We then need to change to string values in the column \"taxi_fleet\" to numeric, else it will mess with our code."
   ]
  },
  {
   "cell_type": "code",
   "execution_count": null,
   "metadata": {},
   "outputs": [],
   "source": [
    "taxi_population['taxi_fleet'] = taxi_population['taxi_fleet'].str.replace(',', '').astype(int)"
   ]
  },
  {
   "cell_type": "markdown",
   "metadata": {},
   "source": [
    "Now that we have either replaced or removed all the NaN values in our datasets, we will now rename the columns of some of the datasets to make it easier to read as well as to change the dtypes of some of the datasets. We will also change the date frequency of the dataframe \"taxi_population\" from month to year."
   ]
  },
  {
   "cell_type": "code",
   "execution_count": null,
   "metadata": {},
   "outputs": [],
   "source": [
    "datasets = [train_location, bus_location, taxi_location, train_passenger_vol, bus_passenger_vol, \n",
    "public_transport_ridership, bus_population, taxi_population]\n",
    "datasets_title = [\"**Train stations locations**\", \"**Bus stops locations**\", \"**Taxi stands locations**\", \"**Passenger volume by train station**\", \"**Passenger volume by bus stop**\", \n",
    "\"**Public transport ridership annually by type of transport**\", \"**Bus population in Singapore**\", \"**Taxi population in Singapore**\"]\n",
    "for i in range(len(datasets)):\n",
    "    print(datasets_title[i])\n",
    "    print(datasets[i].columns)\n",
    "    print(\"\\n\")"
   ]
  },
  {
   "cell_type": "code",
   "execution_count": null,
   "metadata": {},
   "outputs": [],
   "source": [
    "train_location.rename(columns = {\n",
    "    'STN_NAME': 'Station name',\n",
    "    'STN_NO': 'Station number'\n",
    "}, inplace= True)\n",
    "\n",
    "bus_location.rename(columns = {\n",
    "    'BUS_STOP_N': 'Bus stop number',\n",
    "    'BUS_ROOF_N': 'Bus roof number',\n",
    "    'LOC_DESC': 'Location description',\n",
    "}, inplace= True)\n",
    "\n",
    "taxi_location.rename(columns = {\n",
    "    'TYPE_CD_DE': 'Taxi stand/stop'\n",
    "}, inplace= True)\n",
    "\n",
    "train_passenger_vol.rename(columns = {\n",
    "    'YEAR_MONTH': 'year_month'\n",
    "}, inplace= True)\n",
    "\n",
    "bus_passenger_vol.rename(columns = {\n",
    "    'YEAR_MONTH': 'year_month'\n",
    "}, inplace= True)\n",
    "\n",
    "taxi_population.rename(columns = {\n",
    "    'month': 'year_month',\n",
    "    'taxi_fleet': 'number'\n",
    "}, inplace= True)"
   ]
  },
  {
   "cell_type": "markdown",
   "metadata": {},
   "source": [
    "Now, lets view the dtypes in our data."
   ]
  },
  {
   "cell_type": "code",
   "execution_count": null,
   "metadata": {},
   "outputs": [],
   "source": [
    "datasets = [train_location, bus_location, taxi_location, train_passenger_vol, bus_passenger_vol, \n",
    "public_transport_ridership, bus_population, taxi_population]\n",
    "datasets_title = [\"**Train stations locations**\", \"**Bus stops locations**\", \"**Taxi stands locations**\", \"**Passenger volume by train station**\", \"**Passenger volume by bus stop**\", \n",
    "\"**Public transport ridership annually by type of transport**\", \"**Bus population in Singapore**\", \"**Taxi population in Singapore**\"]\n",
    "for i in range(len(datasets)):\n",
    "    print(datasets_title[i])\n",
    "    print(datasets[i].info())\n",
    "    print(\"\\n\")"
   ]
  },
  {
   "cell_type": "markdown",
   "metadata": {},
   "source": [
    "As we can see, we have to change the \"year\" for all the dataframes (except for the location datasets) to \"datetime64\" instead of \"int64\" or \"object\""
   ]
  },
  {
   "cell_type": "code",
   "execution_count": null,
   "metadata": {},
   "outputs": [],
   "source": [
    "datasets = [public_transport_ridership, bus_population]\n",
    "for dataframe in datasets:\n",
    "    dataframe[\"year\"] = dataframe[\"year\"].astype(object)"
   ]
  },
  {
   "cell_type": "code",
   "execution_count": null,
   "metadata": {},
   "outputs": [],
   "source": [
    "datasets_1 = [public_transport_ridership, bus_population]\n",
    "datasets_2 = [train_passenger_vol, bus_passenger_vol, taxi_population]\n",
    "\n",
    "for dataframe in datasets_1:\n",
    "    dataframe[\"year\"] = pd.to_datetime(dataframe[\"year\"], format=\"%Y\")\n",
    "\n",
    "for dataframe in datasets_2:\n",
    "    dataframe[\"year_month\"] = pd.to_datetime(dataframe[\"year_month\"], format=\"%Y-%m\")"
   ]
  },
  {
   "cell_type": "code",
   "execution_count": null,
   "metadata": {},
   "outputs": [],
   "source": [
    "datasets = [train_location, bus_location, taxi_location, train_passenger_vol, bus_passenger_vol, \n",
    "public_transport_ridership, bus_population, taxi_population]\n",
    "datasets_title = [\"**Train stations locations**\", \"**Bus stops locations**\", \"**Taxi stands locations**\", \"**Passenger volume by train station**\", \"**Passenger volume by bus stop**\", \n",
    "\"**Public transport ridership annually by type of transport**\", \"**Bus population in Singapore**\", \"**Taxi population in Singapore**\"]\n",
    "for i in range(len(datasets)):\n",
    "    print(datasets_title[i])\n",
    "    print(datasets[i].info())\n",
    "    print(\"\\n\")"
   ]
  },
  {
   "cell_type": "markdown",
   "metadata": {},
   "source": [
    "## Step 4: Visualizing the cleaned datasets"
   ]
  },
  {
   "cell_type": "markdown",
   "metadata": {},
   "source": [
    "Let's first visualise the first few rows in our data."
   ]
  },
  {
   "cell_type": "code",
   "execution_count": null,
   "metadata": {},
   "outputs": [],
   "source": [
    "datasets = [train_location, bus_location, taxi_location, train_passenger_vol, bus_passenger_vol, \n",
    "public_transport_ridership, bus_population, taxi_population]\n",
    "datasets_title = [\"**Train stations locations**\", \"**Bus stops locations**\", \"**Taxi stands locations**\", \"**Passenger volume by train station**\", \"**Passenger volume by bus stop**\", \n",
    "\"**Public transport ridership annually by type of transport**\", \"**Bus population in Singapore**\", \"**Taxi population in Singapore**\"]\n",
    "for i in range(len(datasets)):\n",
    "    print(datasets_title[i])\n",
    "    display(datasets[i].head())\n",
    "    print(\"\\n\")"
   ]
  },
  {
   "cell_type": "markdown",
   "metadata": {},
   "source": [
    "Next, let's check for some outliers in our data."
   ]
  },
  {
   "cell_type": "code",
   "execution_count": null,
   "metadata": {},
   "outputs": [],
   "source": [
    "def detect_outliers (dataframe, column):\n",
    "    Q1 = dataframe[column].quantile(0.25)\n",
    "    Q3 = dataframe[column].quantile(0.75)\n",
    "    IQR = Q3 = Q1\n",
    "    lower_fence = Q1 + 1.5 * IQR\n",
    "    upper_fence = Q3 + 1.5 * IQR\n",
    "    outliers_condition = ((dataframe[column] < (lower_fence)) | (dataframe[column] > (upper_fence)))\n",
    "    outliers = dataframe[outliers_condition]\n",
    "    if len(outliers) == 0:\n",
    "        print(f'No outliers in {column}')\n",
    "    else: \n",
    "        print(f'There are {len(outliers)} outliers in {column}')\n",
    "    sns.boxplot(dataframe[column]).set_title('Boxplot of outliers')\n",
    "    plt.show()\n",
    "    return outliers"
   ]
  },
  {
   "cell_type": "code",
   "execution_count": null,
   "metadata": {},
   "outputs": [],
   "source": [
    "datasets = [train_passenger_vol, train_passenger_vol ,bus_passenger_vol, bus_passenger_vol,\n",
    "public_transport_ridership, bus_population, taxi_population]\n",
    "datasets_column = ['TOTAL_TAP_IN_VOLUME', 'TOTAL_TAP_OUT_VOLUME', 'TOTAL_TAP_IN_VOLUME', 'TOTAL_TAP_OUT_VOLUME', \n",
    "'average_ridership', 'number', 'number']\n",
    "for i in range(len(datasets)):\n",
    "    detect_outliers(datasets[i], datasets_column[i])\n",
    "    print(\"\\n\")"
   ]
  },
  {
   "cell_type": "markdown",
   "metadata": {},
   "source": [
    "## Step 5: Data Visualisation"
   ]
  },
  {
   "attachments": {},
   "cell_type": "markdown",
   "metadata": {},
   "source": [
    "## Objective 1 \n",
    "##### To analyse the spread and density of the various public transportation in Singapore"
   ]
  },
  {
   "cell_type": "markdown",
   "metadata": {},
   "source": [
    "#### Step 5.1: How does the variety and spread of public transportation look like in Singapore?"
   ]
  },
  {
   "cell_type": "markdown",
   "metadata": {},
   "source": [
    "Map of bus stops, MRT/LRT stations and taxi stands in Singapore."
   ]
  },
  {
   "cell_type": "code",
   "execution_count": null,
   "metadata": {},
   "outputs": [],
   "source": [
    "fig, ax = plt.subplots(1, 1, figsize=(15, 15))\n",
    "taxi_location.plot(ax = ax, color='#FFCCE1', alpha=0.8)\n",
    "bus_location.plot(ax = ax, color='#dee3ea', alpha=0.5)\n",
    "train_location.plot(ax = ax, color='#a4d0cf', alpha=0.7)\n",
    "plt.legend(['Taxi', 'Bus', 'Train'])\n",
    "plt.title(\"Map of Singapore\")\n",
    "plt.show()"
   ]
  },
  {
   "attachments": {},
   "cell_type": "markdown",
   "metadata": {},
   "source": [
    "- As we can see, the points on the map are quite hard to see as they are clustered up together. The map that we just plotted is static, meaning that we are unable to zoom in to see the points more clearly. Furthermore, we are unable to see both the individual stations/stops and all the stations/stops together on one figure since the plot does not allow us to switch between these two options. We would have to plot at least 4 plots in order to do that.\n",
    "- Hence, we need to find another way to plot these geodataframes together."
   ]
  },
  {
   "attachments": {},
   "cell_type": "markdown",
   "metadata": {},
   "source": [
    "- We decided to plot these geodataframe onto a plotly mapbox map. Plotly allows us to create an interacterable map, where we can zoom into locations that we are interested in and view information about them by hovering over them. Mapbox allows us to have an accurate visualisation of the world's locations, like for example, the different roads and streets in an area. With this mapbox figure,  we would be able to switch between the individual stations/stops and all the stations/stops together seamlessly on one figure with a click of a button. Mapbox also allows us to have nicer map visulisations.\n",
    "- However, the problems is that plotly maps only accepts coordinates based on the World Geodetic System (WGS84).\n",
    "- The coordinates that we have in the geodataframes \"train_location\", \"bus_location\" and \"taxi_location\" are based on the plane coordinate system (SVY21). The plane coordinate system is a transverse mercator projection (with a WGS84 datum) commonly used in Singapore.\n",
    "- We need to change the coordinates to the correct coordinate system (SVY21 -> WGS84). To do this, we will do some math. We will make use of some inverse trigonometric functions like latitude = asin (z/R) and longitude = atan2 (y,x). asin and atan are known as arcsine and acrtangent, they are the inverse of sine and tangent respectively.\n",
    "- Using a class and some functions, we will convert the coordinates and store them in new geodataframes."
   ]
  },
  {
   "cell_type": "code",
   "execution_count": null,
   "metadata": {},
   "outputs": [],
   "source": [
    "import math\n",
    "\n",
    "class SVY21:\n",
    "    # Ref: http://www.linz.govt.nz/geodetic/conversion-coordinates/projection-conversions/transverse-mercator-preliminary-computations/index.aspx\n",
    "    \n",
    "    # WGS84 Datum\n",
    "    a = 6378137\n",
    "    f = 1 / 298.257223563\n",
    "\n",
    "    # SVY21 Projection\n",
    "    # Fundamental point: Base 7 at Pierce Resevoir.\n",
    "    # Latitude: 1 22 02.9154 N, longitude: 103 49 31.9752 E (of Greenwich).\n",
    "\n",
    "    # Known Issue: Setting (oLat, oLon) to the exact coordinates specified above\n",
    "    # results in computation being slightly off. The values below give the most \n",
    "    # accurate represenation of test data.\n",
    "    oLat = 1.366666     # origin's lat in degrees\n",
    "    oLon = 103.833333   # origin's lon in degrees\n",
    "    oN = 38744.572      # false Northing\n",
    "    oE = 28001.642      # false Easting\n",
    "    k = 1               # scale factor\n",
    "\n",
    "    def __init__(self):\n",
    "        self.b = self.a * (1 - self.f)\n",
    "        self.e2 = (2 * self.f) - (self.f * self.f)\n",
    "        self.e4 = self.e2 * self.e2\n",
    "        self.e6 = self.e4 * self.e2\n",
    "        self.A0 = 1 - (self.e2 / 4) - (3 * self.e4 / 64) - (5 * self.e6 / 256);\n",
    "        self.A2 = (3. / 8.) * (self.e2 + (self.e4 / 4) + (15 * self.e6 / 128));\n",
    "        self.A4 = (15. / 256.) * (self.e4 + (3 * self.e6 / 4));\n",
    "        self.A6 = 35 * self.e6 / 3072;\n",
    "\n",
    "    def computeSVY21(self, lat, lon):\n",
    "        \"\"\"\n",
    "        Returns a pair (N, E) representing Northings and Eastings in SVY21.\n",
    "        \"\"\"\n",
    "\n",
    "        latR = lat * math.pi / 180\n",
    "        sinLat = math.sin(latR)\n",
    "        sin2Lat = sinLat * sinLat\n",
    "        cosLat = math.cos(latR)\n",
    "        cos2Lat = cosLat * cosLat\n",
    "        cos3Lat = cos2Lat * cosLat\n",
    "        cos4Lat = cos3Lat * cosLat\n",
    "        cos5Lat = cos4Lat * cosLat\n",
    "        cos6Lat = cos5Lat * cosLat\n",
    "        cos7Lat = cos6Lat * cosLat\n",
    "\n",
    "        rho = self.calcRho(sin2Lat)\n",
    "        v = self.calcV(sin2Lat)\n",
    "        psi = v / rho\n",
    "        t = math.tan(latR)\n",
    "        w = (lon - self.oLon) * math.pi / 180\n",
    "\n",
    "        M = self.calcM(lat)\n",
    "        Mo = self.calcM(self.oLat)\n",
    "\n",
    "        w2 = w * w\n",
    "        w4 = w2 * w2\n",
    "        w6 = w4 * w2\n",
    "        w8 = w6 * w2\n",
    "\n",
    "        psi2 = psi * psi\n",
    "        psi3 = psi2 * psi\n",
    "        psi4 = psi3 * psi\n",
    "\n",
    "        t2 = t * t\n",
    "        t4 = t2 * t2\n",
    "        t6 = t4 * t2\n",
    "\n",
    "        # Compute Northing\n",
    "        nTerm1 = w2 / 2 * v * sinLat * cosLat\n",
    "        nTerm2 = w4 / 24 * v * sinLat * cos3Lat * (4 * psi2 + psi - t2)\n",
    "        nTerm3 = w6 / 720 * v * sinLat * cos5Lat * ((8 * psi4) * (11 - 24 * t2) - (28 * psi3) * (1 - 6 * t2) + psi2 * (1 - 32 * t2) - psi * 2 * t2 + t4)\n",
    "        nTerm4 = w8 / 40320 * v * sinLat * cos7Lat * (1385 - 3111 * t2 + 543 * t4 - t6)\n",
    "        N = self.oN + self.k * (M - Mo + nTerm1 + nTerm2 + nTerm3 + nTerm4)\n",
    "\n",
    "        # Compute Easting\n",
    "        eTerm1 = w2 / 6 * cos2Lat * (psi - t2)\n",
    "        eTerm2 = w4 / 120 * cos4Lat * ((4 * psi3) * (1 - 6 * t2) + psi2 * (1 + 8 * t2) - psi * 2 * t2 + t4)\n",
    "        eTerm3 = w6 / 5040 * cos6Lat * (61 - 479 * t2 + 179 * t4 - t6)\n",
    "        E = self.oE + self.k * v * w * cosLat * (1 + eTerm1 + eTerm2 + eTerm3)\n",
    "\n",
    "        return (N, E)\n",
    "\n",
    "    def calcM(self, lat):\n",
    "        latR = lat * math.pi / 180\n",
    "        return self.a * ((self.A0 * latR) - (self.A2 * math.sin(2 * latR)) + (self.A4 * math.sin(4 * latR)) - (self.A6 * math.sin(6 * latR)))\n",
    "\n",
    "    def calcRho(self, sin2Lat):\n",
    "        num = self.a * (1 - self.e2)\n",
    "        denom = math.pow(1 - self.e2 * sin2Lat, 3. / 2.)\n",
    "        return num / denom\n",
    "\n",
    "    def calcV(self, sin2Lat):\n",
    "        poly = 1 - self.e2 * sin2Lat\n",
    "        return self.a / math.sqrt(poly)\n",
    "\n",
    "    def computeLatLon(self, N, E):\n",
    "        \"\"\"\n",
    "        Returns a pair (lat, lon) representing Latitude and Longitude.\n",
    "        \"\"\"\n",
    "\n",
    "        Nprime = N - self.oN\n",
    "        Mo = self.calcM(self.oLat)\n",
    "        Mprime = Mo + (Nprime / self.k)\n",
    "        n = (self.a - self.b) / (self.a + self.b)\n",
    "        n2 = n * n\n",
    "        n3 = n2 * n\n",
    "        n4 = n2 * n2\n",
    "        G = self.a * (1 - n) * (1 - n2) * (1 + (9 * n2 / 4) + (225 * n4 / 64)) * (math.pi / 180)\n",
    "        sigma = (Mprime * math.pi) / (180. * G)\n",
    "        \n",
    "        latPrimeT1 = ((3 * n / 2) - (27 * n3 / 32)) * math.sin(2 * sigma)\n",
    "        latPrimeT2 = ((21 * n2 / 16) - (55 * n4 / 32)) * math.sin(4 * sigma)\n",
    "        latPrimeT3 = (151 * n3 / 96) * math.sin(6 * sigma)\n",
    "        latPrimeT4 = (1097 * n4 / 512) * math.sin(8 * sigma)\n",
    "        latPrime = sigma + latPrimeT1 + latPrimeT2 + latPrimeT3 + latPrimeT4\n",
    "\n",
    "        sinLatPrime = math.sin(latPrime)\n",
    "        sin2LatPrime = sinLatPrime * sinLatPrime\n",
    "\n",
    "        rhoPrime = self.calcRho(sin2LatPrime)\n",
    "        vPrime = self.calcV(sin2LatPrime)\n",
    "        psiPrime = vPrime / rhoPrime\n",
    "        psiPrime2 = psiPrime * psiPrime\n",
    "        psiPrime3 = psiPrime2 * psiPrime\n",
    "        psiPrime4 = psiPrime3 * psiPrime\n",
    "        tPrime = math.tan(latPrime)\n",
    "        tPrime2 = tPrime * tPrime\n",
    "        tPrime4 = tPrime2 * tPrime2\n",
    "        tPrime6 = tPrime4 * tPrime2\n",
    "        Eprime = E - self.oE\n",
    "        x = Eprime / (self.k * vPrime)\n",
    "        x2 = x * x\n",
    "        x3 = x2 * x\n",
    "        x5 = x3 * x2\n",
    "        x7 = x5 * x2\n",
    "\n",
    "        # Compute Latitude\n",
    "        latFactor = tPrime / (self.k * rhoPrime)\n",
    "        latTerm1 = latFactor * ((Eprime * x) / 2)\n",
    "        latTerm2 = latFactor * ((Eprime * x3) / 24) * ((-4 * psiPrime2) + (9 * psiPrime) * (1 - tPrime2) + (12 * tPrime2))\n",
    "        latTerm3 = latFactor * ((Eprime * x5) / 720) * ((8 * psiPrime4) * (11 - 24 * tPrime2) - (12 * psiPrime3) * (21 - 71 * tPrime2) + (15 * psiPrime2) * (15 - 98 * tPrime2 + 15 * tPrime4) + (180 * psiPrime) * (5 * tPrime2 - 3 * tPrime4) + 360 * tPrime4)\n",
    "        latTerm4 = latFactor * ((Eprime * x7) / 40320) * (1385 - 3633 * tPrime2 + 4095 * tPrime4 + 1575 * tPrime6)\n",
    "        lat = latPrime - latTerm1 + latTerm2 - latTerm3 + latTerm4\n",
    "\n",
    "        # Compute Longitude\n",
    "        secLatPrime = 1. / math.cos(lat)\n",
    "        lonTerm1 = x * secLatPrime\n",
    "        lonTerm2 = ((x3 * secLatPrime) / 6) * (psiPrime + 2 * tPrime2)\n",
    "        lonTerm3 = ((x5 * secLatPrime) / 120) * ((-4 * psiPrime3) * (1 - 6 * tPrime2) + psiPrime2 * (9 - 68 * tPrime2) + 72 * psiPrime * tPrime2 + 24 * tPrime4)\n",
    "        lonTerm4 = ((x7 * secLatPrime) / 5040) * (61 + 662 * tPrime2 + 1320 * tPrime4 + 720 * tPrime6)\n",
    "        lon = (self.oLon * math.pi / 180) + lonTerm1 - lonTerm2 + lonTerm3 - lonTerm4\n",
    "\n",
    "        return (lat / (math.pi / 180), lon / (math.pi / 180))"
   ]
  },
  {
   "cell_type": "code",
   "execution_count": null,
   "metadata": {},
   "outputs": [],
   "source": [
    "new_train_dataframe = []\n",
    "new_bus_dataframe = []\n",
    "new_taxi_dataframe = []\n",
    "new_dataframe_list = [new_train_dataframe, new_bus_dataframe, new_taxi_dataframe]\n",
    "datasets = [train_location, bus_location, taxi_location]\n",
    "\n",
    "convert = SVY21() # use class\n",
    "for j in range(len(datasets)):\n",
    "    for index, row in datasets[j].iterrows():\n",
    "        i = convert.computeLatLon(row.geometry.y, row.geometry.x)\n",
    "        row.geometry = Point(i[0], i[1])\n",
    "        new_dataframe_list[j].append(row)"
   ]
  },
  {
   "cell_type": "code",
   "execution_count": null,
   "metadata": {},
   "outputs": [],
   "source": [
    "# New train geodataframe\n",
    "df1 = pd.DataFrame(new_train_dataframe)\n",
    "new_train_location = gpd.GeoDataFrame(df1)\n",
    "\n",
    "# New bus geodataframe\n",
    "df2 = pd.DataFrame(new_bus_dataframe)\n",
    "new_bus_location = gpd.GeoDataFrame(df2)\n",
    "\n",
    "# New taxi geodataframe\n",
    "df3 = pd.DataFrame(new_taxi_dataframe)\n",
    "new_taxi_location = gpd.GeoDataFrame(df3)"
   ]
  },
  {
   "attachments": {},
   "cell_type": "markdown",
   "metadata": {},
   "source": [
    "Let us look at the first few rows of our newly created geodataframes."
   ]
  },
  {
   "cell_type": "code",
   "execution_count": null,
   "metadata": {},
   "outputs": [],
   "source": [
    "datasets = [new_train_location, new_bus_location, new_taxi_location]\n",
    "datasets_column = ['Train geodataframe', 'Bus geodataframe', 'Taxi geodataframe']\n",
    "for i in range(len(datasets)):\n",
    "    print(datasets_column[i])\n",
    "    print(datasets[i].head())\n",
    "    print('\\n')"
   ]
  },
  {
   "attachments": {},
   "cell_type": "markdown",
   "metadata": {},
   "source": [
    "- The code below is used to convert the epsg of the geodataframes from epsg 3414 (Singapore's coordinate system) to epsg 4326 (The world's coordinate system). \n",
    "- Similarly to the SVY21 and WGS84, we have to change these coordinate systems to plot them onto our plotly mapbox map."
   ]
  },
  {
   "cell_type": "code",
   "execution_count": null,
   "metadata": {},
   "outputs": [],
   "source": [
    "datasets = [new_train_location, new_bus_location, new_taxi_location]\n",
    "datasets_column = ['Train geodataframe', 'Bus geodataframe', 'Taxi geodataframe']\n",
    "for i in range(len(datasets)):\n",
    "    datasets[i].set_crs(epsg=4326, inplace=True, allow_override=True)\n",
    "    print(datasets_column[i])\n",
    "    print(datasets[i].crs)\n",
    "    print('\\n')"
   ]
  },
  {
   "attachments": {},
   "cell_type": "markdown",
   "metadata": {},
   "source": [
    "Map of Singapore"
   ]
  },
  {
   "cell_type": "code",
   "execution_count": null,
   "metadata": {},
   "outputs": [],
   "source": [
    "mapbox_access_token = open(\".mapbox_token\").read()\n",
    "\n",
    "# Figures\n",
    "fig = go.Figure()\n",
    "fig.add_trace(\n",
    "    go.Scattermapbox(\n",
    "        lat=new_train_location.geometry.x,\n",
    "        lon=new_train_location.geometry.y,\n",
    "        name='Train stations',\n",
    "        mode='markers',\n",
    "        marker=go.scattermapbox.Marker(\n",
    "            size=5,\n",
    "            opacity=0.5,\n",
    "            color='salmon'\n",
    "        ),\n",
    "        hovertemplate=\n",
    "        '<i>Latitude</i>: %{lat:.3f}'+\n",
    "        '<br><i>Longitude</i>: %{lon:.3f}<br>' +\n",
    "        '<b>%{text[0]}</b>' +\n",
    "        '<br><b>%{text[1]}</b>',\n",
    "        text=new_train_location[['Station name', 'Station number']]\n",
    "    )\n",
    ")\n",
    "fig.add_trace(\n",
    "    go.Scattermapbox(\n",
    "        lat=new_bus_location.geometry.x,\n",
    "        lon=new_bus_location.geometry.y,\n",
    "        name='Bus stops',\n",
    "        mode='markers',\n",
    "        marker=go.scattermapbox.Marker(\n",
    "            size=5,\n",
    "            opacity=0.5,\n",
    "            color='darkseagreen'\n",
    "        ),\n",
    "        hovertemplate=\n",
    "        '<i>Latitude</i>: %{lat:.3f}'+\n",
    "        '<br><i>Longitude</i>: %{lon:.3f}<br>' +\n",
    "        '<b>%{text[0]}</b>' +\n",
    "        '<br><b>%{text[1]}</b>',\n",
    "        text=new_bus_location[['Bus stop number', 'Bus roof number']]\n",
    "    )\n",
    ")\n",
    "fig.add_trace(\n",
    "    go.Scattermapbox(\n",
    "        lat=new_taxi_location.geometry.x,\n",
    "        lon=new_taxi_location.geometry.y,\n",
    "        name='Taxi stands',\n",
    "        mode='markers',\n",
    "        marker=go.scattermapbox.Marker(\n",
    "            size=5,\n",
    "            opacity=0.5,\n",
    "            color='mediumslateblue'\n",
    "        ),\n",
    "        hovertemplate=\n",
    "        '<i>Latitude</i>: %{lat:.3f}'+\n",
    "        '<br><i>Longitude</i>: %{lon:.3f}<br>' +\n",
    "        '<b>%{text}</b>',\n",
    "        text=new_taxi_location['Taxi stand/stop']\n",
    "    )\n",
    ")\n",
    "\n",
    "# Create the buttons\n",
    "dropdown_buttons = [\n",
    "{'label': \"ALL\", 'method': \"update\", 'args': [{\"visible\": [True, True, True]}, {\"title\": \"ALL\"}]},\n",
    "{'label': \"Train stations\", 'method': \"update\", 'args': [{\"visible\": [True, False, False]}, {\"title\": \"Train stations\"}]},\n",
    "{'label': \"Bus stops\", 'method': \"update\", 'args': [{\"visible\": [False, True, False]}, {\"title\": \"Bus stops\"}]},\n",
    "{'label': \"Taxi stands\", 'method': \"update\", 'args': [{\"visible\": [False, False, True]}, {\"title\": \"Taxi stands\"}]},\n",
    "]\n",
    "\n",
    "# Figure layout\n",
    "fig.update_layout(\n",
    "    autosize=False,\n",
    "    width=1400,\n",
    "    height=700,\n",
    "    hovermode='closest',\n",
    "    mapbox_style=\"mapbox://styles/tarnishedhunter/clde0tvs1003s01mk55yaku0z\",\n",
    "    mapbox=dict(\n",
    "        accesstoken=mapbox_access_token,\n",
    "        bearing=0,\n",
    "        center=go.layout.mapbox.Center(\n",
    "            lat=1.3521,\n",
    "            lon=103.8198\n",
    "        ),\n",
    "        pitch=0,\n",
    "        zoom=10\n",
    "    ),\n",
    "    margin={\"r\":0,\"t\":0,\"l\":0,\"b\":0}, # remove the white gutter between the frame and map\n",
    "    hoverlabel=dict( \n",
    "        bgcolor=\"white\", # white background\n",
    "        font_size=16, # label font size\n",
    "        font_family=\"Rockwell\",\n",
    "\n",
    "    ),\n",
    "    legend=dict(\n",
    "        title=\"Colour Codes for Locations\",\n",
    "        entrywidth=0.3,\n",
    "        orientation=\"h\",\n",
    "        yanchor=\"top\",\n",
    "        y=0.99,\n",
    "        xanchor=\"left\",\n",
    "        x=0.01,\n",
    "        font=dict(\n",
    "            family=\"Rockwell\",\n",
    "            size=14,\n",
    "            color=\"black\"\n",
    "        ),\n",
    "        bgcolor=\"azure\",\n",
    "        bordercolor=\"Grey\",\n",
    "        borderwidth=2\n",
    "    ),\n",
    "    updatemenus=[\n",
    "        dict(\n",
    "            buttons=dropdown_buttons,\n",
    "            direction=\"down\",\n",
    "            pad={\"r\": 0, \"t\": 0, \"l\":0,\"b\":0},\n",
    "            showactive=True,\n",
    "            x=1,\n",
    "            xanchor=\"right\",\n",
    "            y=0.95,\n",
    "            yanchor=\"top\",\n",
    "            font=dict(\n",
    "                size=14,\n",
    "                color=\"black\"\n",
    "            )\n",
    "        ),\n",
    "    ]\n",
    ")\n",
    "fig.show()"
   ]
  },
  {
   "attachments": {},
   "cell_type": "markdown",
   "metadata": {},
   "source": [
    "- In general, with the all tabs active, it seems that most of the areas in Singapore are pretty much covered by public transport. There is not sign of any public transport on the extreme lefts, rights and center of Singapore, since those areas are airport runways and forests. It makes sense since no one lives there.\n",
    "- On the extreme left, there is a line of bus stops that line up all the way to the top left of Singapore. The top left of Singapore is where Lim Chu Kang is situated. Lim Chu Kang is quite isolated from the rest of Singapore, cutted of by forests, rivers and murai airfield. Bus stops are unfortunately the only way reach Lim Chu Kang. There are no mrt/lrt stations or taxi stands in sight.\n",
    "- The line of bus stops connects Lim Chu Kang to the southwest of Singapore, like where Jurong West, Choa Chu Kang and Bukit Batok are.\n",
    "- Since we are already talking about the distribution of bus stops in Singapore, let us switch to the bus stops tab. At first glance, the distribution of bus stops seems to be very evenly distributed across towns in Singapore, except for Lim Chu Kang, which we talked about just now. \n",
    "- However, taking a closer look, there are still some towns, like Lim Chu Kang, where there are hardly to no bus stops in sight.\n",
    "- Theses towns include:\n",
    "    - Bukit Timah\n",
    "    - Tanglin\n",
    "    - Novena\n",
    "- Looking at these three towns, we would have noticed that both Bukit Timah and Tanglin are from district 10 and that Novena is from district 11. These two districts are some of the more expensive towns in Singapore, where the rich families and expats live.\n",
    "- Could this mean that the more expensive the town, the less the bus stops situtated? This hypothesis is quite reasonable, since richer people are able to afford private transport like cars. The need of public transport in these towns wouls hence be a lot lower as compared to the cheaper towns in Singapore.\n",
    "- However, there are a few examples that oppose to this statement. For example, Lim Chu Kang is not exactly an expensive town. But then again, Lim Chu Kang doesnt have many residents, most of the land there are taken up by cemetries.\n",
    "- The better examples that can oppose to this statement are the other towns in district 10 and 11. Ardmore, Holland Road, Newton and Thomson all seem to have a fair share of bus stops, though it is still lesser than most towns in Singapore.\n",
    "- To prevent ourselves from straying too far off from our objectives, we will move onto the mrt/lrt station and taxi stands maps. This hypothesis that we have though can be used in another analysis. This is one of the funs of data anlaysis, we will never know what interesting observations that we can observed from our data."
   ]
  },
  {
   "attachments": {},
   "cell_type": "markdown",
   "metadata": {},
   "source": [
    "- Now, when we open the train stations tab, we would have noticed at first glance that the distribution of mrt/lrt stations are not really distributed evenly.\n",
    "- There is a huge concentration of mrt/lrt stations in the north east of Singapore, where Sengkang and Punggol are. There is also another huge concentration in the south of Sinapore, where the central business district and shopping districts of Singapore are located.\n",
    "- There is a reasonable amount of mrt/lrt staions around the center of Singapore, around the towns Choa Chu Kang and Bukit Panjang.\n",
    "- The rest of the areas and towns of Singapore, the North, the South West and the East, the concentration of mrt/lrt stations is very little.\n",
    "- Now, moving onto the taxi stands tab, it is immediately apparent that there a insanely huge concentration of taxi stands in the south of Singapore, where the central business and shopping districts of Singapore are located. It makes sense though, since the concentration of people there is the highest anywhere in Singapore. All the offices and shopping centres are located there, if there isnt enough public transport there, a huge traffic congestion will definitely result.\n",
    "- There is a decent concentration of taxi stands upper north west, in the districts 10 and 11, which are the richer towns of Singapore. This also makes sense, since taxis are a lot more expensive as compared to buses and trains. Taxis is seem as a luxury to the average Singaporean and one wouldnt ride it everyday. These richer towns are able to afford it though, hence explaining the decent concentration of taxi stands there.\n",
    "- The rest of the areas and towns of Singapore, however, the concentration of taxi stands are very low."
   ]
  },
  {
   "attachments": {},
   "cell_type": "markdown",
   "metadata": {},
   "source": [
    "Line graph of public ridership of different public transport over the years."
   ]
  },
  {
   "cell_type": "code",
   "execution_count": null,
   "metadata": {},
   "outputs": [],
   "source": [
    "fig, ax = plt.subplots(figsize=(10, 6), tight_layout = True)\n",
    "\n",
    "sns.set_theme(style=\"whitegrid\", palette=\"pastel\")\n",
    "sns.set_style({\"grid.color\": \".6\", \"grid.linestyle\": \":\", \"ticks\": True})\n",
    "\n",
    "ax = sns.lineplot(data=public_transport_ridership, x=\"year\", y=\"average_ridership\", hue=\"type_of_public_transport\")\n",
    "\n",
    "sns.despine()\n",
    "ax.legend(loc = \"lower right\", title = \"Type of Public Transport\")\n",
    "sns.move_legend(ax, \"upper left\", bbox_to_anchor=(1, 1))\n",
    "ax.set_title(r\"$\\bf{More\\ Singaporeans\\ are\\ Taking\\ the\\ MRT}$\" + \"\\nDifferent types of public transport average Ridership in Millions\", loc = \"left\", fontsize = 16)\n",
    "ax.set_ylabel(\"Change in Average Daily Ridership\")\n",
    "ax.set_xlabel(\"Years\")\n",
    "\n",
    "plt.show()"
   ]
  },
  {
   "attachments": {},
   "cell_type": "markdown",
   "metadata": {},
   "source": [
    "- From the line graph, we can observed that most people in Singapore take the bus. Bus is the main form of public transport in Singapore.\n",
    "- This is followed by the MRT, taxi and lastly LRT.\n",
    "- Before we start analysing, the reason why the number of Singaporeans taking taxis from 1996 to 2000 is zero is because they did not start recording the number of people taking the taxi until 2000.\n",
    "- From the graph, we can see that the rate of increase of average daily ridership is the highest for MRT.\n",
    "- The number of people starting the MRT is slowly catching up to the number of people taking the bus.\n",
    "- This could be due to the rapid expansion of MRT lines in Singapore in the recent years, due to the increase in funding and support from the government and transport authorities.\n",
    "- For a period, from around 2000 to 2004, the number in average daily ridership dropped slightly before rising again for bus. This could be due to the increase in bus fares from 2000 to 2004, as seen from https://landtransportguru.net/chronology-of-fare-adjustments/, however, the train fares did increase during that period too, hence this means that are other factors contributing to the daily ridership decrease. Increase in bus fare is not the only causation, there could be many other factors too.\n",
    "- LRT and Taxis seen hardly any difference in the average daily ridership over the years. This is true considering the fact that they are the less popular modes of transport, due to the high taxi fares and the little number of lrt stations in Singapore."
   ]
  },
  {
   "attachments": {},
   "cell_type": "markdown",
   "metadata": {},
   "source": [
    "Pie chart of the different types of public transport in Singapore."
   ]
  },
  {
   "cell_type": "code",
   "execution_count": null,
   "metadata": {},
   "outputs": [],
   "source": [
    "# Extracting the required information from the datasets\n",
    "public_transport_ridership_by_type = public_transport_ridership.groupby('type_of_public_transport')['average_ridership'].agg([np.sum, np.mean])"
   ]
  },
  {
   "cell_type": "code",
   "execution_count": null,
   "metadata": {},
   "outputs": [],
   "source": [
    "labels = ['Bus', 'LRT', 'MRT', 'Taxi']\n",
    "palette_color = sns.color_palette('pastel')\n",
    "\n",
    "fig = plt.figure(figsize=(10, 6), tight_layout = True)\n",
    "ax1 = fig.add_subplot(121)\n",
    "ax2 = fig.add_subplot(122)\n",
    "\n",
    "ax1.pie(public_transport_ridership_by_type['sum'], labels=labels, colors=palette_color, autopct='%.0f%%', explode=[0.03]*4)\n",
    "ax2.pie(public_transport_ridership_by_type['mean'], labels=labels, colors=palette_color, autopct='%.0f%%', explode=[0.03]*4)\n",
    "ax1.title.set_text('Total ridership by transport')\n",
    "ax2.title.set_text('Mean ridership by transport')\n",
    "\n",
    "plt.show()"
   ]
  },
  {
   "attachments": {},
   "cell_type": "markdown",
   "metadata": {},
   "source": [
    "- As we can see from the pie charts, the percentages of total and mean ridership by transport are completely the same. Hence, we will not take the total and mean into account.\n",
    "- Due to our previous knowledge from analysing the line graph above, we know that the highest proportionn of average daily ridership is bus, followed by MRT, taxi and lastly LRT.\n",
    "- However, we do not know the actual percentage values, hence we plot these two pie charts.\n",
    "- As we all can see from the pie charts, 58% of ridership is by bus, 29% for MRT, 12% for taxi and 1% for LRT. This matches with our previous knowledge.\n",
    "- The ridership by bus is almost twice as much as the ridership for MRT, however, we do know that the percentage difference is slowly decreasing due to the huge rate of increase in MRT avaerge daily ridership.\n",
    "- The ridership by taxi is less than half of the ridership by MRT.\n",
    "- The ridership by LRT, as we all know, makes up only 1% of the entire ridership population. The percentages for bus, MRT and even taxi completely dwarfs it."
   ]
  },
  {
   "attachments": {},
   "cell_type": "markdown",
   "metadata": {},
   "source": [
    "Population of buses and taxis over the years."
   ]
  },
  {
   "cell_type": "code",
   "execution_count": null,
   "metadata": {},
   "outputs": [],
   "source": [
    "# Extracting the required information from the datasets\n",
    "taxi_population_by_year = taxi_population.groupby('year_month')['number'].sum()\n",
    "bus_population_by_year = bus_population.groupby('year')['number'].sum()"
   ]
  },
  {
   "cell_type": "code",
   "execution_count": null,
   "metadata": {},
   "outputs": [],
   "source": [
    "fig, ax = plt.subplots(figsize=(10, 6), tight_layout = True)\n",
    "\n",
    "sns.set_style({\"grid.color\": \".8\", \"grid.linestyle\": \":\", \"ticks\": True})\n",
    "sns.set_theme(style=\"whitegrid\")\n",
    "\n",
    "sns.lineplot(data=bus_population_by_year, color='lightsteelblue', label='Bus')\n",
    "sns.lineplot(data=taxi_population_by_year, color='lightsalmon', label='Taxi')\n",
    "\n",
    "sns.despine(left=True)\n",
    "ax.set_title(r\"$\\bf{There\\ are\\ more\\ taxis\\ than\\ buses\\ overall}$\" + \"\\nBus vs Taxi Population over the years\", loc = \"left\", fontsize = 16)\n",
    "ax.set_ylabel(\"Population\")\n",
    "ax.set_xlabel(\"Years\")\n",
    "ax.legend(loc=\"upper right\", title='Type')\n",
    "\n",
    "plt.show()"
   ]
  },
  {
   "attachments": {},
   "cell_type": "markdown",
   "metadata": {},
   "source": [
    "- Looking at the line graph, we all will immdiately notice the large decrease in the taxi population from around the years 2016 to 2022. Lets talk about this first. Whats the reason for the sudden decrease?\n",
    "- Reading from these article, https://www.channelnewsasia.com/singapore/future-of-taxi-industry-in-singapore-in-focus-phv-242436, it seems that the rise of private-hire cars and the Covid-19 pandamic are the two main reasons for the huge decrease in the taxi population.\n",
    "- This is quite saddening, due to the huge amount of jobs and livelihoods lost. However, many new jobs for private-hire drivers are also created.\n",
    "- But arent taxis and private-hire cars the same thing? Why are people choosing to private-hire cars instead of taxis?\n",
    "- From online research, it seems that some reasons are as follows:\n",
    "    - ease of use of private-hire app (easier to get a private-hire car)\n",
    "    - ease of payment (more convenient)\n",
    "    - private-hire app rewards system (exclusive discounts)\n",
    "- Moving back to the anlaysis and the line graph, we can see that for the years before 2020, the taxi population was higher than the population of buses.\n",
    "- The taxi population reached its peak at around 29000 cars in 2016, before unfortunately decreasing rapidly to around 16000 in 2022.\n",
    "- Up till 2016, the taxi population has beenn increasing steadily from around 20000 to around 29000 in 2016.\n",
    "- For the bus population, it has been increasing steadily throughout the years."
   ]
  },
  {
   "attachments": {},
   "cell_type": "markdown",
   "metadata": {},
   "source": [
    "Heatmap of bus population of different bus capacitites."
   ]
  },
  {
   "cell_type": "code",
   "execution_count": null,
   "metadata": {},
   "outputs": [],
   "source": [
    "# Extracting the required information from the datasets\n",
    "bus_population_by_capacity = bus_population.groupby(['capacity', 'year'])['number'].sum()\n",
    "bus_population_by_capacity = bus_population_by_capacity.reset_index()\n",
    "bus_population_by_capacity = pd.pivot_table(bus_population_by_capacity, index='capacity', columns='year', values='number')"
   ]
  },
  {
   "cell_type": "code",
   "execution_count": null,
   "metadata": {},
   "outputs": [],
   "source": [
    "fig, ax = plt.subplots(figsize=(10, 6), tight_layout = True)\n",
    "\n",
    "sns.heatmap(bus_population_by_capacity, fmt=\"g\", cmap='BuPu', center=1000, annot=True, linewidths=0.05,\n",
    "            cbar_kws = {\n",
    "                \"orientation\": \"vertical\",\n",
    "                \"label\" : \"Bus population\"\n",
    "            },xticklabels = [\n",
    "                \"2005\", \"2006\", \"2007\", \"2008\", \"2009\", \"2010\", \"2011\", \"2012\", \"2013\",\n",
    "                 \"2014\", \"2015\", \"2016\", \"2017\", \"2018\", \"2019\", \"2020\", \"2021\"\n",
    "            ])\n",
    "ax.set_title(\"Bus population by capacity over the years\", weight = \"semibold\", fontsize = 16)\n",
    "ax.set_xlabel(\"Years\")\n",
    "ax.set_ylabel(\"Capacity\")\n",
    "\n",
    "plt.show()"
   ]
  },
  {
   "attachments": {},
   "cell_type": "markdown",
   "metadata": {},
   "source": [
    "- In this heatmap, we can see that all the years, from years 2005 to 2021, bus capacities of 10-15 and >70 have the greatest proportion, as seen by the dark purple squares.\n",
    "- Bus capacities 16-20, 41-45 and 46-50 have decent proportions, but they are still a lot lesser as compared to the 10-15 and >70 capacities, around 5 to 6 times less.\n",
    "- The rest of the bus capacities are very little, ranging from 0 population to around 1000, as seen by the light blue squares."
   ]
  },
  {
   "attachments": {},
   "cell_type": "markdown",
   "metadata": {},
   "source": [
    "Line graph of taxi population of different companies."
   ]
  },
  {
   "cell_type": "code",
   "execution_count": null,
   "metadata": {},
   "outputs": [],
   "source": [
    "# Extracting the required information from the datasets\n",
    "taxi_population_by_company = taxi_population.groupby(['company', 'year_month'])['number'].sum()\n",
    "taxi_population_by_company = taxi_population_by_company.reset_index()"
   ]
  },
  {
   "cell_type": "code",
   "execution_count": null,
   "metadata": {},
   "outputs": [],
   "source": [
    "fig, ax = plt.subplots(figsize=(10, 6), tight_layout = True)\n",
    "\n",
    "sns.lineplot(data=taxi_population_by_company, x=\"year_month\", y='number', hue='company')\n",
    "ax.set_title(r\"$\\bf{Comfort\\ has\\ the\\ biggest\\ taxi\\ population}$\" + \"\\nTaxi Population of different companies over the years\", loc = \"left\", fontsize = 16)\n",
    "sns.move_legend(ax, \"upper left\", bbox_to_anchor=(1, 1))\n",
    "ax.set_xlabel(\"Years\")\n",
    "ax.set_ylabel(\"Company\")\n",
    "\n",
    "plt.show()"
   ]
  },
  {
   "attachments": {},
   "cell_type": "markdown",
   "metadata": {},
   "source": [
    "- Now, looking at this line graph, we can see that the taxi company comfort has the biggest taxi population, followed by cityCab and TransCab, both with around the same population. The rest of the taxi companies are as follows.\n",
    "- It seems that the taxi company comfort has taken the biggest hit of taxi population decrease from the years 2016 to 2022, decreasing from around 13000 in 2016 to around 7000 in 2022, a drastic decrease of 46%, almost halfing their population.\n",
    "- The taxi companies TransCab, CityCab, SMRT and Premier has taken a slight hit, seeing a decrease of around 500 to 1000 taxis.\n",
    "- The rest of the taxi companies does not seem to have taken a hit, though their numbers are close to zero, with some flat out zero, possibly indicating that these taxi companies closed down.\n",
    "- Over the years, it only seems that comfort and TransCab has seen huge increases in their taxi population, with these increases being from the years around 2006 to 2016.\n",
    "- For TransCab, the increase could be due to the fact that it started out in around 2006, the increase could be them investing many funds into a huge taxi fleet.\n",
    "- For Comfort, the increase could be due to them being the biggest taxi company in Singapore, they are hence able to accumulate the funds to buy many taxis into their fleet."
   ]
  },
  {
   "attachments": {},
   "cell_type": "markdown",
   "metadata": {},
   "source": [
    "## Objective 2\n",
    "##### To draw a correlation between the spread and densiy of the various public transportation and the variance in traffic congestion over time. Then we will implement some changes to public transport to reduce traffic congestion."
   ]
  },
  {
   "cell_type": "markdown",
   "metadata": {},
   "source": [
    "#### Step 5.2: What is traffic congestion?"
   ]
  },
  {
   "attachments": {},
   "cell_type": "markdown",
   "metadata": {},
   "source": [
    "- Traffic congestion is a condition in transport that is characterized by slower speeds, longer trip times, and increased vehicular queueing.\n",
    "- For roads:\n",
    "    - Some characteristics of traffic congestion are slow travelling speeds and vehicular queues that last more than 15 minutes.\n",
    "    - During traffic congestion, the travelling speed of a vehicle may be as slow as 10 kilometres per hour in comparison to the usual speed of about 80 kilometres per hour. In some instances, traffic may be so congested that vehicles do no move at all.\n",
    "- For trains:\n",
    "    - Some characteristics of congestion can include when alll the seats on a train are full and you can hardly or cannot move around the carriage, due to all the people standing about.\n",
    "    - Queues at train stations that are so long that people near the end or halfway through the queue cannot even get inside the train at all."
   ]
  },
  {
   "cell_type": "markdown",
   "metadata": {},
   "source": [
    "#### Step 5.3: Traffic congestion in Singapore."
   ]
  },
  {
   "attachments": {},
   "cell_type": "markdown",
   "metadata": {},
   "source": [
    "Passenger volume by different types of public transport over time."
   ]
  },
  {
   "attachments": {},
   "cell_type": "markdown",
   "metadata": {},
   "source": [
    "Firstly, let's create a new column named \"TOTAL_VOLUME\" in each of the passenger volume datasets. As the name suggests, the values in the \"TOTAL_VOLUME\" column is the sum of the columns \"TOTAL_TAP_IN_VOLUME\" and \"TOTAL_TAP_OUT_VOLUME\".\n",
    "Secondly, we will create yet another column named \"NET_VOLUME\" in each of the passenger volume datasets. The values in the \"NET_VOLUME\" column is the difference between the columns \"TOTAL_TAP_IN_VOLUME\" and \"TOTAL_TAP_OUT_VOLUME\"."
   ]
  },
  {
   "cell_type": "code",
   "execution_count": null,
   "metadata": {},
   "outputs": [],
   "source": [
    "# Creating the new columns\n",
    "# TOTAL_VOLUME\n",
    "bus_passenger_vol['TOTAL_VOLUME'] = bus_passenger_vol['TOTAL_TAP_IN_VOLUME'] + bus_passenger_vol['TOTAL_TAP_OUT_VOLUME']\n",
    "train_passenger_vol['TOTAL_VOLUME'] = train_passenger_vol['TOTAL_TAP_IN_VOLUME'] + train_passenger_vol['TOTAL_TAP_OUT_VOLUME']\n",
    "\n",
    "# NET_VOLUME\n",
    "bus_passenger_vol['NET_VOLUME'] = bus_passenger_vol['TOTAL_TAP_IN_VOLUME'] - bus_passenger_vol['TOTAL_TAP_OUT_VOLUME']\n",
    "train_passenger_vol['NET_VOLUME'] = train_passenger_vol['TOTAL_TAP_IN_VOLUME'] - train_passenger_vol['TOTAL_TAP_OUT_VOLUME']"
   ]
  },
  {
   "attachments": {},
   "cell_type": "markdown",
   "metadata": {},
   "source": [
    "(Train)\n",
    "Day against total, tap in and tap out volume"
   ]
  },
  {
   "cell_type": "code",
   "execution_count": null,
   "metadata": {},
   "outputs": [],
   "source": [
    "fig = plt.figure(figsize=(10, 6), tight_layout = True)\n",
    "ax1 = fig.add_subplot(221)\n",
    "ax2 = fig.add_subplot(222)\n",
    "\n",
    "sns.set_style({\"grid.color\": \".8\", \"grid.linestyle\": \":\", \"ticks\": True})\n",
    "sns.set_theme(style=\"whitegrid\")\n",
    "\n",
    "sns.stripplot(\n",
    "    data=train_passenger_vol,\n",
    "    x='DAY_TYPE', y='TOTAL_VOLUME', hue=\"DAY_TYPE\",\n",
    "    palette=\"dark\", alpha=.6, ax=ax1\n",
    ")\n",
    "sns.stripplot(\n",
    "    data=train_passenger_vol,\n",
    "    x='DAY_TYPE', y='NET_VOLUME', hue=\"DAY_TYPE\",\n",
    "    palette=\"dark\", alpha=.6, ax=ax2\n",
    ")\n",
    "ax1.title.set_text('Total volume')\n",
    "ax2.title.set_text('Net volume')\n",
    "\n",
    "sns.despine(left=True)\n",
    "ax1.set_xticklabels(ax1.get_xticklabels(), rotation=40, ha=\"right\")\n",
    "ax2.set_xticklabels(ax2.get_xticklabels(), rotation=40, ha=\"right\")\n",
    "ax1.set_ylabel(\"Volume\")\n",
    "ax1.set_xlabel(\"Type of day\")\n",
    "ax2.set_ylabel(\"Volume\")\n",
    "ax2.set_xlabel(\"Type of day\")\n",
    "ax1.legend(title='Type')\n",
    "ax2.legend(title='Type')\n",
    "sns.move_legend(ax1, \"upper left\", bbox_to_anchor=(1, 1))\n",
    "sns.move_legend(ax2, \"upper left\", bbox_to_anchor=(1, 1))\n",
    "\n",
    "plt.show()"
   ]
  },
  {
   "attachments": {},
   "cell_type": "markdown",
   "metadata": {},
   "source": [
    "- As we can see, the total passenger volume on weekdays is a lot higher than the total passenger volume during the weekends or holidays, which is expected.\n",
    "- Similarly, the spread of the net passenger volume on weekdays is a lot higher than the net passenger volume during the weekends or holidays, which too is also expected. There are more extreme values on weekdays.\n",
    "- The two observations we made above are pretty obvious, no analysis is even needed, we try to find some other observations.\n",
    "- For total passenger volume, on the weekday, there are a few outliers with values 250000 spotted.\n",
    "- The total passenger volumes on the weekdays are more than twice than that on the weekends and holidays.\n",
    "- Similarly, the net passenger volume on the weekdays about 1.5 times more than that on the weekends and holidays.\n",
    "- This observation is expected, since people do not need to work or go to school on the weekends and holidays, they do not require to ride the public transport on weekends and holidays."
   ]
  },
  {
   "attachments": {},
   "cell_type": "markdown",
   "metadata": {},
   "source": [
    "(Train)\n",
    "Hours against total, tap in and tap out volume"
   ]
  },
  {
   "cell_type": "code",
   "execution_count": null,
   "metadata": {},
   "outputs": [],
   "source": [
    "train_passenger_vol_by_hour = train_passenger_vol.groupby('TIME_PER_HOUR')[['TOTAL_VOLUME', 'NET_VOLUME']].mean()\n",
    "train_passenger_vol_by_hour = train_passenger_vol_by_hour.reset_index()"
   ]
  },
  {
   "cell_type": "code",
   "execution_count": null,
   "metadata": {},
   "outputs": [],
   "source": [
    "fig = plt.figure(figsize=(16, 9), tight_layout = True)\n",
    "ax1 = fig.add_subplot(221)\n",
    "ax2 = fig.add_subplot(222)\n",
    "\n",
    "sns.set_style({\"grid.color\": \".6\", \"grid.linestyle\": \":\", \"ticks\": True})\n",
    "sns.set_theme(style=\"whitegrid\", palette=\"pastel\")\n",
    "\n",
    "sns.barplot(data=train_passenger_vol_by_hour, x='TIME_PER_HOUR', y=\"TOTAL_VOLUME\", ax=ax1)\n",
    "sns.barplot(data=train_passenger_vol_by_hour, x='TIME_PER_HOUR', y=\"NET_VOLUME\", ax=ax2)\n",
    "\n",
    "sns.lineplot(x=np.arange(0,len(train_passenger_vol_by_hour)), y=train_passenger_vol_by_hour['TOTAL_VOLUME'], ax=ax1)\n",
    "ax1.fill_between(np.arange(0,len(train_passenger_vol_by_hour)), train_passenger_vol_by_hour['TOTAL_VOLUME'], alpha=0.5)\n",
    "\n",
    "sns.lineplot(x=np.arange(0,len(train_passenger_vol_by_hour)), y=train_passenger_vol_by_hour['NET_VOLUME'], ax=ax2)\n",
    "ax2.fill_between(np.arange(0,len(train_passenger_vol_by_hour)), train_passenger_vol_by_hour['NET_VOLUME'], alpha=0.5)\n",
    "\n",
    "ax1.title.set_text('Total volume')\n",
    "ax2.title.set_text('Net volume')\n",
    "\n",
    "sns.despine(left=True)\n",
    "ax1.set_ylabel(\"Volume\")\n",
    "ax1.set_xlabel(\"Hour\")\n",
    "ax2.set_ylabel(\"Volume\")\n",
    "ax2.set_xlabel(\"Hour\")\n",
    "\n",
    "plt.show()"
   ]
  },
  {
   "attachments": {},
   "cell_type": "markdown",
   "metadata": {},
   "source": [
    "- Let us talk about the total passenger volume first.\n",
    "- We can see that there are two peaks in the graph, one is at 8am and the other at 6pm.\n",
    "- This corresponds to the rush hours in the day and night, where in the day, people take the train to work or school and in the night, people take the train home.\n",
    "- In the wee hours in the morning, the total passenger volume is very low, estimated to be around 1000. This is the time where most people are at home sleeping, hence the low train passenger volume.\n",
    "- From 6 to 8, where everyone is going to work or school, the total passenger volume shots up before dipping down a bit from around 18000 to 14000 at 9.\n",
    "- The total passenger volume remains about the same till the second rush hour at 6.\n",
    "- From 6 to 11pm, the toal passenger volume drops down at a steady rate from the peak of around 27000 to 5000. Everyone should be arriving home, hence the total passenger volume drops as the hours past by."
   ]
  },
  {
   "attachments": {},
   "cell_type": "markdown",
   "metadata": {},
   "source": [
    "- Now, let us talk about the net passenger volume.\n",
    "- From 5 to 7, the net passenger volume is positive, this means that the total tap in volume is higher than the tap out volume.\n",
    "- As this is the rush hour, where everyone is boarding the train to get to work or school, the total tap in volume would naturally be higher than the tap out volume.\n",
    "- Then from 8 to 9, the net passenger volume changes drastically to become negative. This is when everyone would have arrived at their destination and are now alighting the train.\n",
    "- From the 9 to 14, the net passenger volume slowly increases to become positive as the rush hour is over by that time.\n",
    "- At 15, the net passenger volume becomes postive, meaning the total tap in volume is higher than the tap out volume again. This is when the second rush hour begins, where everyone is returning back home.\n",
    "- From 15 to 17, the passenger volume shots up drastically, representing an expoontial curve, increasing from around 300 to around 1800.\n",
    "- However, for some unexplained reason from 17 to 19, the net passenger volume shots down drastically to become negative before increasing back again to around 1100 at 21.\n",
    "- Then, its suddenly drops again to around -800 at 23.\n",
    "- One possible reason for this that the second rush hour comes in two batches, One batch getting released earlier than the other.\n",
    "- The first batch boards the train at 17, and then alights at 19.\n",
    "- Then, after that, the second batch boards the train at 21, before alighting at 23."
   ]
  },
  {
   "attachments": {},
   "cell_type": "markdown",
   "metadata": {},
   "source": [
    "(Bus)\n",
    "Day against total, tap in and tap out volume"
   ]
  },
  {
   "cell_type": "code",
   "execution_count": null,
   "metadata": {},
   "outputs": [],
   "source": [
    "fig = plt.figure(figsize=(10, 6), tight_layout = True)\n",
    "ax1 = fig.add_subplot(221)\n",
    "ax2 = fig.add_subplot(222)\n",
    "\n",
    "sns.set_style({\"grid.color\": \".8\", \"grid.linestyle\": \":\", \"ticks\": True})\n",
    "sns.set_theme(style=\"whitegrid\")\n",
    "\n",
    "sns.stripplot(\n",
    "    data=bus_passenger_vol,\n",
    "    x='DAY_TYPE', y='TOTAL_VOLUME', hue=\"DAY_TYPE\",\n",
    "    palette=\"dark\", alpha=.6, ax=ax1\n",
    ")\n",
    "sns.stripplot(\n",
    "    data=bus_passenger_vol,\n",
    "    x='DAY_TYPE', y='NET_VOLUME', hue=\"DAY_TYPE\",\n",
    "    palette=\"dark\", alpha=.6, ax=ax2\n",
    ")\n",
    "ax1.title.set_text('Total volume')\n",
    "ax2.title.set_text('Net volume')\n",
    "\n",
    "sns.despine(left=True)\n",
    "ax1.set_xticklabels(ax1.get_xticklabels(), rotation=40, ha=\"right\")\n",
    "ax2.set_xticklabels(ax2.get_xticklabels(), rotation=40, ha=\"right\")\n",
    "ax1.set_ylabel(\"Volume\")\n",
    "ax1.set_xlabel(\"Type of day\")\n",
    "ax2.set_ylabel(\"Volume\")\n",
    "ax2.set_xlabel(\"Type of day\")\n",
    "ax1.legend(title='Type')\n",
    "ax2.legend(title='Type')\n",
    "sns.move_legend(ax1, \"upper left\", bbox_to_anchor=(1, 1))\n",
    "sns.move_legend(ax2, \"upper left\", bbox_to_anchor=(1, 1))\n",
    "\n",
    "plt.show()"
   ]
  },
  {
   "attachments": {},
   "cell_type": "markdown",
   "metadata": {},
   "source": [
    "- As we can see, the total passenger volume on weekdays is a lot higher than the total passenger volume during the weekends or holidays, which is expected.\n",
    "- Similarly, the spread of the net passenger volume on weekdays is a lot higher than the net passenger volume during the weekends or holidays, which too is also expected. There are more extreme values on weekdays.\n",
    "- The two observations we made above are pretty obvious, no analysis is even needed, we try to find some other observations.\n",
    "- AS compared to the train, for the bus total passenger volume, on the weekday, there are a fewer outliers with values 150000 spotted.\n",
    "- The total passenger volumes on the weekdays are about twice than that on the weekends and holidays.\n",
    "- Similarly, the net passenger volume on the weekdays about 1.2 times more than that on the weekends and holidays.\n",
    "- This observation is expected, since people do not need to work or go to school on the weekends and holidays, they do not require to ride the public transport on weekends and holidays."
   ]
  },
  {
   "attachments": {},
   "cell_type": "markdown",
   "metadata": {},
   "source": [
    "(Bus)\n",
    "Hours against total, tap in and tap out volume"
   ]
  },
  {
   "cell_type": "code",
   "execution_count": null,
   "metadata": {},
   "outputs": [],
   "source": [
    "bus_passenger_vol_by_hour = bus_passenger_vol.groupby('TIME_PER_HOUR')[['TOTAL_VOLUME', 'NET_VOLUME']].mean()\n",
    "bus_passenger_vol_by_hour = bus_passenger_vol_by_hour.reset_index()"
   ]
  },
  {
   "cell_type": "code",
   "execution_count": null,
   "metadata": {},
   "outputs": [],
   "source": [
    "fig = plt.figure(figsize=(16, 9), tight_layout = True)\n",
    "ax1 = fig.add_subplot(221)\n",
    "ax2 = fig.add_subplot(222)\n",
    "\n",
    "sns.set_style({\"grid.color\": \".6\", \"grid.linestyle\": \":\", \"ticks\": True})\n",
    "sns.set_theme(style=\"whitegrid\", palette=\"pastel\")\n",
    "\n",
    "sns.barplot(data=bus_passenger_vol_by_hour, x='TIME_PER_HOUR', y=\"TOTAL_VOLUME\", ax=ax1)\n",
    "sns.barplot(data=bus_passenger_vol_by_hour, x='TIME_PER_HOUR', y=\"NET_VOLUME\", ax=ax2)\n",
    "\n",
    "sns.lineplot(x=np.arange(0,len(bus_passenger_vol_by_hour)), y=bus_passenger_vol_by_hour['TOTAL_VOLUME'], ax=ax1)\n",
    "ax1.fill_between(np.arange(0,len(bus_passenger_vol_by_hour)), bus_passenger_vol_by_hour['TOTAL_VOLUME'], alpha=0.5)\n",
    "\n",
    "sns.lineplot(x=np.arange(0,len(bus_passenger_vol_by_hour)), y=bus_passenger_vol_by_hour['NET_VOLUME'], ax=ax2)\n",
    "ax2.fill_between(np.arange(0,len(bus_passenger_vol_by_hour)), bus_passenger_vol_by_hour['NET_VOLUME'], alpha=0.5)\n",
    "\n",
    "ax1.title.set_text('Total volume')\n",
    "ax2.title.set_text('Net volume')\n",
    "\n",
    "sns.despine(left=True)\n",
    "ax1.set_ylabel(\"Volume\")\n",
    "ax1.set_xlabel(\"Hour\")\n",
    "ax2.set_ylabel(\"Volume\")\n",
    "ax2.set_xlabel(\"Hour\")\n",
    "\n",
    "plt.show()"
   ]
  },
  {
   "attachments": {},
   "cell_type": "markdown",
   "metadata": {},
   "source": [
    "- Let us talk about the total passenger volume first.\n",
    "- We can see that there are two peaks in the graph, one is at 8am and the other at 6pm, similar to the train.\n",
    "- This corresponds to the rush hours in the day and night, where in the day, people take the train to work or school and in the night, people take the train home.\n",
    "- In the wee hours in the morning, the total passenger volume is very low, even coming really close to zero at 3. This is the time where most people are at home sleeping, hence the low train passenger volume.\n",
    "- From 5 to 8, where everyone is going to work or school, the total passenger volume shots up before dipping down a bit from around 1100 to 800 at 10.\n",
    "- The total passenger volume remains about the same till the second rush hour at 5.\n",
    "- From 5 to 11pm, the toal passenger volume drops down at a steady rate from the peak of around 1200 to 300. Everyone should be arriving home, hence the total passenger volume drops as the hours past by."
   ]
  },
  {
   "attachments": {},
   "cell_type": "markdown",
   "metadata": {},
   "source": [
    "- Now, let us talk about the net passenger volume.\n",
    "- From 5 to 7, the net passenger volume is positive, this means that the total tap in volume is higher than the tap out volume.\n",
    "- As this is the rush hour, where everyone is boarding the train to get to work or school, the total tap in volume would naturally be higher than the tap out volume.\n",
    "- Then from 9 to 9, the net passenger volume changes drastically to become negative. This is when everyone would have arrived at their destination and are now alighting the train.\n",
    "- From the 9 to 14, the net passenger volume slowly increases to become positive and maintains there around the 0 mark as the rush hour is over by that time.\n",
    "- At 15, the net passenger volume becomes postive, meaning the total tap in volume is higher than the tap out volume again. This is when the second rush hour begins, where everyone is returning back home.\n",
    "- From 15 to 17, the passenger volume shots, increasing from around 5 to around 38.\n",
    "- However, for some unexplained reason from 17 to 19, the net passenger volume shots down drastically to become negative before increasing back again to around -8 at 21.\n",
    "- Then, its suddenly drops again to around -23 at 23.\n",
    "- This is the same thing that we observed for the train, hence we will use the same reason to explain this, that is, the second rush hour comes in two batches."
   ]
  },
  {
   "attachments": {},
   "cell_type": "markdown",
   "metadata": {},
   "source": [
    "Map of Passenger volume in Singapore"
   ]
  },
  {
   "cell_type": "code",
   "execution_count": null,
   "metadata": {},
   "outputs": [],
   "source": [
    "new_train_location"
   ]
  },
  {
   "cell_type": "code",
   "execution_count": null,
   "metadata": {},
   "outputs": [],
   "source": [
    "new_bus_location"
   ]
  },
  {
   "attachments": {},
   "cell_type": "markdown",
   "metadata": {},
   "source": [
    "Firstly, we need to merge the location datasets with the passenger volume datasets, in order to find the passenger volume at their repesctive locations. \n",
    "- The inner joins for train and bus are as follows:\n",
    "    - (train) Station number <=> PT_CODE\n",
    "    - (bus) Bus stop number <=> PT_CODE"
   ]
  },
  {
   "cell_type": "code",
   "execution_count": null,
   "metadata": {},
   "outputs": [],
   "source": [
    "# Merging the datasets\n",
    "# Modifying the datasets before merging\n",
    "train_passenger_vol.rename(columns = {\n",
    "    'PT_CODE': 'Station number'\n",
    "}, inplace= True)\n",
    "bus_passenger_vol.rename(columns = {\n",
    "    'PT_CODE': 'Bus stop number'\n",
    "}, inplace= True)\n",
    "new_bus_location['Bus stop number'] = new_bus_location['Bus stop number'].astype(int)\n",
    "\n",
    "# Train\n",
    "merged_train_location = pd.merge(new_train_location, train_passenger_vol, how='inner', on='Station number')\n",
    "# Bus\n",
    "merged_bus_location = pd.merge(new_bus_location, bus_passenger_vol, how='inner', on='Bus stop number')"
   ]
  },
  {
   "cell_type": "code",
   "execution_count": null,
   "metadata": {},
   "outputs": [],
   "source": [
    "mapbox_access_token = open(\".mapbox_token\").read()\n",
    "\n",
    "# Figures\n",
    "fig = go.Figure()\n",
    "fig.add_trace(\n",
    "    go.Scattermapbox(\n",
    "        lat=merged_train_location.geometry.x, \n",
    "        lon=merged_train_location.geometry.y,\n",
    "        name='Train stations',\n",
    "        mode='markers',\n",
    "        marker=go.scattermapbox.Marker(\n",
    "            size=merged_train_location['TOTAL_VOLUME']/5000,\n",
    "            opacity=0.5,\n",
    "            color='salmon'\n",
    "        ),\n",
    "        hovertemplate=\n",
    "        '<i>Latitude</i>: %{lat:.3f}'+\n",
    "        '<br><i>Longitude</i>: %{lon:.3f}<br>' +\n",
    "        '<b>%{text[0]}</b>' +\n",
    "        '<br><b>%{text[1]}</b>',\n",
    "        text=merged_train_location[['Station name', 'Station number']]\n",
    "    )\n",
    ")\n",
    "fig.add_trace(\n",
    "    go.Scattermapbox(\n",
    "        lat=merged_bus_location.geometry.x, \n",
    "        lon=merged_bus_location.geometry.y,\n",
    "        name='Bus stops',\n",
    "        mode='markers',\n",
    "        marker=go.scattermapbox.Marker(\n",
    "            size=merged_bus_location['TOTAL_VOLUME']/5000,\n",
    "            opacity=0.5,\n",
    "            color='salmon'\n",
    "        ),\n",
    "        hovertemplate=\n",
    "        '<i>Latitude</i>: %{lat:.3f}'+\n",
    "        '<br><i>Longitude</i>: %{lon:.3f}<br>' +\n",
    "        '<b>%{text[0]}</b>' +\n",
    "        '<br><b>%{text[1]}</b>',\n",
    "        text=merged_bus_location[['Bus stop number', 'Bus roof number']]\n",
    "    )\n",
    ")\n",
    "\n",
    "# Create the buttons\n",
    "dropdown_buttons_type = [\n",
    "{'label': \"ALL\", 'method': \"update\", 'args': [{\"visible\": [True, True, True]}, {\"title\": \"ALL\"}]},\n",
    "{'label': \"Train stations\", 'method': \"update\", 'args': [{\"visible\": [True, False, False]}, {\"title\": \"Train stations\"}]},\n",
    "{'label': \"Bus stops\", 'method': \"update\", 'args': [{\"visible\": [False, True, False]}, {\"title\": \"Bus stops\"}]},\n",
    "]\n",
    "\n",
    "# Figure layout\n",
    "fig.update_layout(\n",
    "    autosize=False,\n",
    "    width=1400,\n",
    "    height=700,\n",
    "    hovermode='closest',\n",
    "    mapbox_style=\"mapbox://styles/tarnishedhunter/clde0tvs1003s01mk55yaku0z\",\n",
    "    mapbox=dict(\n",
    "        accesstoken=mapbox_access_token,\n",
    "        bearing=0,\n",
    "        center=go.layout.mapbox.Center(\n",
    "            lat=1.3521,\n",
    "            lon=103.8198\n",
    "        ),\n",
    "        pitch=0,\n",
    "        zoom=10\n",
    "    ),\n",
    "    margin={\"r\":0,\"t\":0,\"l\":0,\"b\":0}, # remove the white gutter between the frame and map\n",
    "    hoverlabel=dict(\n",
    "        bgcolor=\"white\", # white background\n",
    "        font_size=16, # label font size\n",
    "        font_family=\"Rockwell\",\n",
    "\n",
    "    ),\n",
    "    legend=dict(\n",
    "        title=\"Colour Codes for Locations\",\n",
    "        entrywidth=0.3,\n",
    "        orientation=\"h\",\n",
    "        yanchor=\"top\",\n",
    "        y=0.99,\n",
    "        xanchor=\"left\",\n",
    "        x=0.01,\n",
    "        font=dict(\n",
    "            family=\"Rockwell\",\n",
    "            size=14,\n",
    "            color=\"black\"\n",
    "        ),\n",
    "        bgcolor=\"azure\",\n",
    "        bordercolor=\"Grey\",\n",
    "        borderwidth=2\n",
    "    ),\n",
    "    updatemenus=[\n",
    "        dict(\n",
    "            buttons=dropdown_buttons_type,\n",
    "            direction=\"down\",\n",
    "            pad={\"r\": 0, \"t\": 0, \"l\":0,\"b\":0},\n",
    "            showactive=True,\n",
    "            x=1,\n",
    "            xanchor=\"right\",\n",
    "            y=0.95,\n",
    "            yanchor=\"top\",\n",
    "            font=dict(\n",
    "                size=14,\n",
    "                color=\"black\"\n",
    "            )\n",
    "        )\n",
    "    ]\n",
    ")\n",
    "fig.show()"
   ]
  },
  {
   "attachments": {},
   "cell_type": "markdown",
   "metadata": {},
   "source": [
    "- As we can see from the map here, there seems to be a huge volume of passengers in the west area of Singapore. We take a closer look at the west first.\n",
    "- Looking closely, it seems that the town with the largest passenger volume in the west is Jurong east, followed by Jurong west and then clementi, as seen by the red points. The bigger the point, the larger the passenger volume.\n",
    "- In the south of Singapore, where the central business and shopping districts are located, there is a very tight cluster of red seen. Let us zoom into the south area of Singapore and have a closer look.\n",
    "- Zooming in, we can see that there are huge passenger volumes in Chinatown, raffles place and Tanjong Pagar. These areas are located in the central business district and some popular tourist spots, so it is to no one's surprised that we can find a huge volume of passengers here.\n",
    "- Raffles place has the biggest big red point among the three, though Chinatown has two red points. Another cluster of red points like Chinatown can again be seen just north east of Chinatown, in bugis, where we can find another two red points situated in the same area.\n",
    "- In the north, we can see some red points slight bigger than those found in the south of Singapore, though they are still obviously smaller than that found in Jurong. The points can be found in Yishun, Sembawang and Woodlands.\n",
    "- The red points in the North east and East not as big as compared to those found in the south and west.\n",
    "- From the many variations in sizes of the red points, we can tell that the distribution of passenger volume is not evenly distributed in Singapore. Even the red points in each town are not evenly distributed too, with some being significantly bigger than others."
   ]
  },
  {
   "attachments": {},
   "cell_type": "markdown",
   "metadata": {},
   "source": [
    "- By now, we would have noticed that all of these red points are mrt stations. Even though the bus ridership is bigger than the train ridership, the carrying capacity of an mrt is a lot bigger than even the bus with the largest carrying capacity (>70). This obviously will cause the passenger volume at a given time to be a lot higher in an mrt station as compared to a bus stop.\n",
    "- Hence, I have decided to create two tabs on the map, one of passenger volume of mrt/lrt stations, and another for bus stops.\n",
    "- Now, let us switch to the bus stops tab.\n",
    "- Instantly, we will observed the distribution of passenger volumes of bus stops is a lot different as comapred to that of the train.\n",
    "- The south part of Singapore, in the central business and shopping districts, there used to be a high train passenger volume there. However, now for bus, there isnt.\n",
    "- Another difference is that, in the west, the train passenger volume for Jurong east is a higher than that for Jurong west. However, the bus passenger volume for Jurong west is a lot more higher than that for Jurong east.\n",
    "- Also, in the north, woodlands is the only one out of the three (Yishun, Sembawang and Woodlands) with a high bus passenger volume.\n",
    "- There seems to be a decently high bus passenger volume in the east in Tampines. This is compared to their low train bus passenger volume.\n",
    "- In the north east, generally, the train passenger volume is a lot higher than the bus passenger volume."
   ]
  },
  {
   "attachments": {},
   "cell_type": "markdown",
   "metadata": {},
   "source": [
    "- Now, let's investigate further into these towns with high passenger volume, or let's say, high traffic congestion.\n",
    "- Let's see how their passenger volume changes over time as well as the type of day.\n",
    "- The towns that we will be looking at are as follows:\n",
    "- Train\n",
    "    - Jurong East\n",
    "    - Chinatown\n",
    "    - Raffles Place\n",
    "- Bus\n",
    "    - Jurong West\n",
    "    - Tampines\n",
    "    - Woodlands"
   ]
  },
  {
   "cell_type": "code",
   "execution_count": null,
   "metadata": {},
   "outputs": [],
   "source": [
    "# Extracting the datasets\n",
    "# Train\n",
    "selected_train_station = ['JURONG EAST MRT STATION', 'CHINATOWN MRT STATION', 'RAFFLES PLACE MRT STATION']\n",
    "merged_train_location_selected = merged_train_location[merged_train_location['Station name'].isin(selected_train_station)]\n",
    "\n",
    "# Bus\n",
    "selected_bus_stop = [22009, 46009, 75009]\n",
    "merged_bus_location_selected = merged_bus_location[merged_bus_location['Bus stop number'].isin(selected_bus_stop)]"
   ]
  },
  {
   "attachments": {},
   "cell_type": "markdown",
   "metadata": {},
   "source": [
    "Jointplot of Train passenger volume tap in against tap out"
   ]
  },
  {
   "cell_type": "code",
   "execution_count": null,
   "metadata": {},
   "outputs": [],
   "source": [
    "fig = plt.figure(figsize=(16, 9), tight_layout = True)\n",
    "\n",
    "sns.set_style({\"grid.color\": \".6\", \"grid.linestyle\": \":\", \"ticks\": True})\n",
    "sns.set_theme(style=\"darkgrid\", palette=\"pastel\")\n",
    "\n",
    "sns.jointplot(x=\"TOTAL_TAP_IN_VOLUME\", y=\"TOTAL_TAP_OUT_VOLUME\", data = merged_train_location_selected, hue = \"Station name\")\n",
    "sns.despine(left=True)\n",
    "plt.xlabel(\"Total tap in volume\")\n",
    "plt.ylabel(\"Total tap out volume\")\n",
    "plt.legend(title=\"Towns\", labels=['Chinatown', 'Raffles place', 'Jurong East'])\n",
    "\n",
    "plt.show()"
   ]
  },
  {
   "attachments": {},
   "cell_type": "markdown",
   "metadata": {},
   "source": [
    "- Looking at the jointplot, we can immediately see that there is a posittive correlation between the total tap in and tap out volume.\n",
    "- From the jointplot, we can see that the dispersion of passenger volume is very big in the towns chinatown and jurong east. The dispersion for raffles place, however, is not very big. The points are more clustered together.\n",
    "- This means that the net passenger volumes for the twons chinatown and jurong east are very widely dispersed, there are extreme values for net volumes. If we plot the volumes onto a box plot, we would see that there will be many outliers.\n",
    "- As for the net passenger volume for raffles place, the spread will be a lot lesser, there arent that many extreme values. Ploting them onto a box plot, few outliers will be seen\n",
    "- Looking at the kde plots for both total tap in and tap out volumes, we can see that the distribution for total tap in volume is positively skewed while the total tap out volume is negatively skewed.\n",
    "- This means that in the day, the total tap in volume is a lot higher, while in the night, the total tap out volume will be a lot higher\n",
    "- For both kde plots, raffles place has the highest peak, followed by jurong east, and lastly chinatown."
   ]
  },
  {
   "attachments": {},
   "cell_type": "markdown",
   "metadata": {},
   "source": [
    "Jointplot of Bus passenger volume tap in against tap out"
   ]
  },
  {
   "cell_type": "code",
   "execution_count": null,
   "metadata": {},
   "outputs": [],
   "source": [
    "fig = plt.figure(figsize=(16, 9), tight_layout = True)\n",
    "\n",
    "sns.set_style({\"grid.color\": \".6\", \"grid.linestyle\": \":\", \"ticks\": True})\n",
    "sns.set_theme(style=\"darkgrid\", palette=\"pastel\")\n",
    "\n",
    "sns.jointplot(x=\"TOTAL_TAP_IN_VOLUME\", y=\"TOTAL_TAP_OUT_VOLUME\", data = merged_bus_location_selected, hue = \"Bus stop number\")\n",
    "sns.despine(left=True)\n",
    "plt.xlabel(\"Total tap in volume\")\n",
    "plt.ylabel(\"Total tap out volume\")\n",
    "plt.legend(title=\"Towns\", labels=['Jurong West', 'Woodlands', 'Tampines'])\n",
    "\n",
    "plt.show()"
   ]
  },
  {
   "attachments": {},
   "cell_type": "markdown",
   "metadata": {},
   "source": [
    "- Looking at the jointplot, we can immediately see that there is a posittive correlation between the total tap in and tap out volume.\n",
    "- From the jointplot, we can see unlike the previous jointplot, the dispersion for all the towns are not very big.\n",
    "- This means that for the net passneger volumes in all towns, the spread will be a lot lesser, there arent that many extreme values. Ploting them onto a box plot, few outliers will be seen\n",
    "- Looking at the kde plots for both total tap in and tap out volumes, we can see that the distribution for total tap in volume is positively skewed while the total tap out volume is negatively skewed.\n",
    "- This means that in the day, the total tap in volume is a lot higher, while in the night, the total tap out volume will be a lot higher\n",
    "- For all the kde plots, the distribution of bothh total tap in and tapa out volume are about the same."
   ]
  },
  {
   "attachments": {},
   "cell_type": "markdown",
   "metadata": {},
   "source": [
    "Linegraph of net passenger volume over time of each area by each public transport type"
   ]
  },
  {
   "cell_type": "code",
   "execution_count": null,
   "metadata": {},
   "outputs": [],
   "source": [
    "fig, ax = plt.subplots(figsize = (16, 9), tight_layout = True)\n",
    "\n",
    "sns.lineplot(data=merged_train_location_selected, x='TIME_PER_HOUR', y='NET_VOLUME', hue='Station name', ax=ax)\n",
    "\n",
    "ax.set_title(r\"$\\bf{Comparing\\ the\\ train\\ passenger\\ volume\\ across\\ towns\\ over\\ the\\ day}$\" + \"\\nNet Passenger Volume Per Hour\", loc = \"left\", fontsize = 20)\n",
    "ax.set_xticks(np.arange(24))\n",
    "ax.set_xlabel(\"Hours\")\n",
    "ax.set_ylabel(\"Net Passenger Volume\")\n",
    "ax.legend(title=\"Towns\", labels=['Chinatown', 'Raffles place', 'Jurong East'], loc=\"upper left\")\n",
    "\n",
    "label_box = {\n",
    "    \"boxstyle\" : \"square,pad=0.3\",\n",
    "    \"fc\" : \"white\",\n",
    "    \"ec\" : \"dimgrey\"\n",
    "}\n",
    "ax.annotate(r\"$\\bf{7-8am:}$\" + \"\\nIn the morning, office workers and students \\nalight the train at their offices and schools\", \n",
    "(8, -58000), (10, -70000), arrowprops = { \"arrowstyle\" : \"->\", \"color\" : \"black\"}, bbox = label_box)\n",
    "ax.annotate(\"\", (8, -16000), (10, -70000), arrowprops = { \"arrowstyle\" : \"->\", \"color\" : \"black\"})\n",
    "ax.annotate(\"\", (7, -27000), (10, -70000), arrowprops = { \"arrowstyle\" : \"->\", \"color\" : \"black\"})\n",
    "\n",
    "ax.annotate(r\"$\\bf{5-9pm:}$\" + \"\\nIn the evening, office workers and students \\nride the train to return home\", \n",
    "(17, 24000), (15, -30000), arrowprops = { \"arrowstyle\" : \"->\", \"color\" : \"black\"}, bbox = label_box)\n",
    "ax.annotate(\"\", (18, 45000), (15, -22000), arrowprops = { \"arrowstyle\" : \"->\", \"color\" : \"black\"})\n",
    "ax.annotate(\"\", (20, 22000), (15, -22000), arrowprops = { \"arrowstyle\" : \"->\", \"color\" : \"black\"})\n",
    "\n",
    "plt.show()"
   ]
  },
  {
   "attachments": {},
   "cell_type": "markdown",
   "metadata": {},
   "source": [
    "- As we can see, the train net passenger volume is negative in the morning and positive at night.\n",
    "- This means that in the morning, the total tap out volume is a lot smaller than the tap in volume. Remember, Net volume = Tap in volume - Tap out volume. This explains the negative value.\n",
    "- In the night, the total tap in volume is a lot higher than the tap out volume. The net passenger volume will hence be positive.\n",
    "- In both the day and night, jurong east has the highest peaks, followed by chinatown, and lastly raffles place, at around -55000 and around 40000 respectively.\n",
    "- In the night the peak of Chinatowns comes very close to jurong east, only a miniscule margin separates them."
   ]
  },
  {
   "cell_type": "code",
   "execution_count": null,
   "metadata": {},
   "outputs": [],
   "source": [
    "fig, ax = plt.subplots(figsize = (16, 9), tight_layout = True)\n",
    "\n",
    "sns.lineplot(data=merged_bus_location_selected, x='TIME_PER_HOUR', y='NET_VOLUME', hue='Bus stop number', ax=ax)\n",
    "\n",
    "ax.set_title(r\"$\\bf{Comparing\\ the\\ bus\\ passenger\\ volume\\ across\\ towns\\ over\\ the\\ day}$\" + \"\\nNet Passenger Volume Per Hour\", loc = \"left\", fontsize = 20)\n",
    "ax.set_xticks(np.arange(24))\n",
    "ax.set_xlabel(\"Hours\")\n",
    "ax.set_ylabel(\"Net Passenger Volume\")\n",
    "ax.legend(title=\"Towns\", labels=['Jurong West', 'Woodlands', 'Tampines'], loc=\"upper left\")\n",
    "\n",
    "label_box = {\n",
    "    \"boxstyle\" : \"square,pad=0.3\",\n",
    "    \"fc\" : \"white\",\n",
    "    \"ec\" : \"dimgrey\"\n",
    "}\n",
    "ax.annotate(r\"$\\bf{7-8am:}$\" + \"\\nIn the morning, office workers and students \\nalight the train at their offices and schools\", \n",
    "(8, -1000), (5, 30000), arrowprops = { \"arrowstyle\" : \"->\", \"color\" : \"black\"}, bbox = label_box)\n",
    "ax.annotate(\"\", (8, -16000), (5, 30000), arrowprops = { \"arrowstyle\" : \"->\", \"color\" : \"black\"})\n",
    "ax.annotate(\"\", (7, -7000), (5, 30000), arrowprops = { \"arrowstyle\" : \"->\", \"color\" : \"black\"})\n",
    "\n",
    "ax.annotate(r\"$\\bf{6pm:}$\" + \"\\nIn the evening, office workers and students \\nride the train to return home\", \n",
    "(21, 19000), (15, -10000), arrowprops = { \"arrowstyle\" : \"->\", \"color\" : \"black\"}, bbox = label_box)\n",
    "ax.annotate(\"\", (21, 30000), (15, -10000), arrowprops = { \"arrowstyle\" : \"->\", \"color\" : \"black\"})\n",
    "ax.annotate(\"\", (21, 22000), (15, -10000), arrowprops = { \"arrowstyle\" : \"->\", \"color\" : \"black\"})\n",
    "\n",
    "plt.show()"
   ]
  },
  {
   "attachments": {},
   "cell_type": "markdown",
   "metadata": {},
   "source": [
    "- As we can see, the bus net passenger volume is negative in the morning and positive at night.\n",
    "- This means that in the morning, the total tap out volume is a lot smaller than the tap in volume. Remember, Net volume = Tap in volume - Tap out volume. This explains the negative value.\n",
    "- In the night, the total tap in volume is a lot higher than the tap out volume. The net passenger volume will hence be positive.\n",
    "- In the day, Tampines has the highest net passenger volume peak at around -15000. This is followed by woodlands and lastly, Jurong West, which actually has a positive net passenger volume peak of around 500.\n",
    "- In the night, Jurong West has the highest net passenger volume peak at around 30000. This is followed by Tampines and lastly, woodlands. Both Tampines and woodlands have almost similar net passenger volumes, at around 21000 and 20000 respectively. They are separated by a very small margin."
   ]
  },
  {
   "attachments": {},
   "cell_type": "markdown",
   "metadata": {},
   "source": [
    "Stripplot of net passenger volume by type of day of each area by each public transport type"
   ]
  },
  {
   "cell_type": "code",
   "execution_count": null,
   "metadata": {},
   "outputs": [],
   "source": [
    "fig, ax = plt.subplots(figsize = (10, 6), tight_layout = True)\n",
    "g= sns.boxplot(x=\"Station name\", y=\"NET_VOLUME\", hue=\"DAY_TYPE\", data = merged_train_location_selected, ax = ax)\n",
    "\n",
    "g.set_xticks(range(len(merged_train_location_selected['Station name'].unique())))\n",
    "g.set_xticklabels(['Chinatown', 'Raffles place', 'Jurong East'])\n",
    "ax.set_xlabel(\"Train passenger volume\")\n",
    "ax.set_ylabel(\"Station\")\n",
    "ax.set_title(\"Train passenger volume by station by day type\", weight=\"semibold\", fontsize = 20)\n",
    "ax.legend(title='Day type', labels=['Weekday', 'Weekends/holiday'])\n",
    "sns.despine(right = True)\n",
    "\n",
    "plt.show()"
   ]
  },
  {
   "attachments": {},
   "cell_type": "markdown",
   "metadata": {},
   "source": [
    "- Previously, we have already concluded that both the train and bus passenger volume are higher on the weekdays as compared to the weekends/holidays.\n",
    "- It appears that this conclusion still is correct and applies now that we are looking at the individual stations themselves.\n",
    "- Weekday is the boxplot on the left of each station and weekends/holidays is the one on the right.\n",
    "- For all three stations, we can clearly see that the spread of passenger volume is indeed larger on the weekdays as compared to the weekends/holidays.\n",
    "- The medians for all the boxplots (all the stations and days) are all almost about the same, around the zero mark."
   ]
  },
  {
   "attachments": {},
   "cell_type": "markdown",
   "metadata": {},
   "source": [
    "- However, for the three stations, the spreads of the passenger volume on the weekday and weekends/holidays are all not the same.\n",
    "- For the weekdays:\n",
    "    - The spread of passenger volume is the highest in Jurong East, followed by raffles place and lastly chinatown\n",
    "- For the weekends/holidays:\n",
    "    - The spread of passenger volume is the highest in Jurong East again, followed by Chinatown and lastly raffles place.\n",
    "- There isnt many outliers to be seen, there is only 6 of them\n",
    "- There are three outliers on the weekdays in raffles place, two are above the upper whisker and one below the lower whisker. There is another outlier, above the upper whisker, on the weekend/holidays in raffles place too.\n",
    "- There are two outliers, both above the upper whisker, on the weekends/holidays in Jurong East."
   ]
  },
  {
   "cell_type": "code",
   "execution_count": null,
   "metadata": {},
   "outputs": [],
   "source": [
    "fig, ax = plt.subplots(figsize = (10, 6), tight_layout = True)\n",
    "g= sns.boxplot(x=\"Bus stop number\", y=\"NET_VOLUME\", hue=\"DAY_TYPE\", data = merged_bus_location_selected, ax = ax)\n",
    "\n",
    "g.set_xticks(range(len(merged_bus_location_selected['Bus stop number'].unique())))\n",
    "g.set_xticklabels(['Jurong West', 'Woodlands', 'Tampines'])\n",
    "ax.set_xlabel(\"Bus passenger volume\")\n",
    "ax.set_ylabel(\"Bus stop\")\n",
    "ax.set_title(\"Bus passenger volume by station by day type\", weight=\"semibold\", fontsize = 20)\n",
    "ax.legend(title='Day type', labels=['Weekends/holiday', 'Weekday'])\n",
    "sns.despine(right = True)\n",
    "\n",
    "plt.show()"
   ]
  },
  {
   "attachments": {},
   "cell_type": "markdown",
   "metadata": {},
   "source": [
    "- The same conclusion applies too to the net passenger volume in each individual stop.\n",
    "- Weekday is the boxplot on the left of each stop and weekends/holidays is the one on the right.\n",
    "- For all three bus stops, we can clearly see that the spread of passenger volume is indeed larger on the weekdays as compared to the weekends/holidays.\n",
    "- Unlike the train stations, the medians for all the bus stop box plots are not the same.\n",
    "- All the medians are about the same, at the zero mark, except for the median net bus passenger volume on the weekdays at Jurong West. The median is about 5000."
   ]
  },
  {
   "attachments": {},
   "cell_type": "markdown",
   "metadata": {},
   "source": [
    "- However, for the three bus stops, the spreads of the passenger volume on the weekday and weekends/holidays are all not the same.\n",
    "- For the weekdays:\n",
    "    - The spread of passenger volume is about the same for Jurong West and Tampines. The spread for Woodlands is lesser than the both of them.\n",
    "- For the weekends/holidays:\n",
    "    - The spread of passenger volume is about the same for Woodlands and Tampines. The spread for Jurong East is slightly more than the both of them.\n",
    "- There isnt many outliers to be seen, there is only 10 of them.\n",
    "- There are two outliers on the weekends/holidays in Jurong West, both above the upper whisker.\n",
    "- There are three outliers, all above the upper whisker, on the weekends/holidays in Woodlands.\n",
    "- There are five outliers, three above the upper whisker and two below the lower whisker, on the weekends/holidays in Tampines.\n",
    "- It appears that there arent any outliers for all three bus stops on the weekdays."
   ]
  },
  {
   "cell_type": "markdown",
   "metadata": {},
   "source": [
    "#### Step 5.4: Why is traffic congestion an important issue?"
   ]
  },
  {
   "attachments": {},
   "cell_type": "markdown",
   "metadata": {},
   "source": [
    "- Traffic congestion is an important issue that must be resolved for it can bring about many negative impacts on society itself.\n",
    "- These impacts include economical, social and environmental imapcts.\n",
    "- Economical impacts\n",
    "    - Reduced productivity\n",
    "    - Productivity refers to the rate at which goods or services are produced. It involves engaging in activities that bring about economic benefit.\n",
    "    - Traffic congestion can reduce productivity since people have to spend more time commuting. This wastes time that could be spent on productive work, leading to an economic loss for the country as a whole.\n",
    "- Social impacts\n",
    "    - Increased strain on mental health\n",
    "    - Long travelling times can lead to fatigue. These fatigue can sometimes lead to stress as well as frustration. On the roads, drivers and their passengers are more prone to losing their concentration or falling asleep, causing accidents and even deaths\n",
    "- Environmental impacts\n",
    "    - Air and noise pollution\n",
    "    - Iding vehciles stuck in traffic congestions can produce harmful exhaust flumes such as carbon dioxide, carbon monoxide and particulate matter. Some particulates are so small that they can penetrate deep into the lung tissues, causing inflammation. Long term exposure to these flumes have been linked to several health problems, including asthma and lung diseases.\n",
    "    - The rumbling engines of the many idling vehicles stuck in traffic congestions can cause harmful and excessive noise that can disrupt human and animal life.\n",
    "- These negative impacts hence proves the point that traffic congestion is an important isssue that must be resolved immediately."
   ]
  },
  {
   "attachments": {},
   "cell_type": "markdown",
   "metadata": {},
   "source": [
    "Traffic congestion is such a serious issue! What can we do to prevent it? We will talk about some possible solutions in the next step."
   ]
  },
  {
   "cell_type": "markdown",
   "metadata": {},
   "source": [
    "#### Step 5.5: What changes can we implement to the public transport in Singapore to prevent traffic congestion?"
   ]
  },
  {
   "attachments": {},
   "cell_type": "markdown",
   "metadata": {},
   "source": [
    "- Timed to precision public transport\n",
    "- Stacked work and school hours\n",
    "- Expansion of rail networks"
   ]
  },
  {
   "cell_type": "code",
   "execution_count": null,
   "metadata": {},
   "outputs": [],
   "source": [
    "world_metro = pd.read_csv('Datasets/japan transportation/dataclips_ssxbtmzqfqzgdsxhlibtetfutilz.csv')"
   ]
  },
  {
   "cell_type": "code",
   "execution_count": null,
   "metadata": {},
   "outputs": [],
   "source": [
    "from shapely import wkt\n",
    "\n",
    "world_metro['geometry'] = world_metro['geometry'].apply(wkt.loads)"
   ]
  },
  {
   "cell_type": "code",
   "execution_count": null,
   "metadata": {},
   "outputs": [],
   "source": [
    "world_metro = gpd.GeoDataFrame(world_metro)\n",
    "world_metro = world_metro.set_geometry('geometry')"
   ]
  },
  {
   "cell_type": "code",
   "execution_count": null,
   "metadata": {},
   "outputs": [],
   "source": [
    "world_metro.set_crs(epsg=4326, inplace=True, allow_override=True)"
   ]
  },
  {
   "cell_type": "code",
   "execution_count": null,
   "metadata": {},
   "outputs": [],
   "source": [
    "world_metro.crs"
   ]
  },
  {
   "cell_type": "code",
   "execution_count": null,
   "metadata": {},
   "outputs": [],
   "source": [
    "world_metro"
   ]
  },
  {
   "cell_type": "code",
   "execution_count": null,
   "metadata": {},
   "outputs": [],
   "source": [
    "mapbox_access_token = open(\".mapbox_token\").read()\n",
    "\n",
    "# Figures\n",
    "fig = go.Figure()\n",
    "fig.add_trace(\n",
    "    go.Scattermapbox(\n",
    "        lat=world_metro.geometry.y,\n",
    "        lon=world_metro.geometry.x,\n",
    "        name='Metro stations',\n",
    "        mode='markers',\n",
    "        marker=go.scattermapbox.Marker(\n",
    "            size=5,\n",
    "            opacity=0.5,\n",
    "            color='darkseagreen'\n",
    "        ),\n",
    "        hovertemplate=\n",
    "        '<i>Latitude</i>: %{lat:.3f}'+\n",
    "        '<br><i>Longitude</i>: %{lon:.3f}<br>' +\n",
    "        '<b>%{text[0]}</b>' +\n",
    "        '<br><b>%{text[1]}</b>',\n",
    "        text=world_metro[['name', 'city_id']]\n",
    "    )\n",
    ")\n",
    "\n",
    "# Figure layout\n",
    "fig.update_layout(\n",
    "    autosize=False,\n",
    "    width=1400,\n",
    "    height=700,\n",
    "    hovermode='closest',\n",
    "    mapbox_style=\"mapbox://styles/tarnishedhunter/clde0tvs1003s01mk55yaku0z\",\n",
    "    mapbox=dict(\n",
    "        accesstoken=mapbox_access_token,\n",
    "        bearing=0,\n",
    "        center=go.layout.mapbox.Center(\n",
    "            lat=35.6762,\n",
    "            lon=139.6503\n",
    "        ),\n",
    "        pitch=0,\n",
    "        zoom=1\n",
    "    ),\n",
    "    margin={\"r\":0,\"t\":0,\"l\":0,\"b\":0}, # remove the white gutter between the frame and map\n",
    "    hoverlabel=dict(\n",
    "        bgcolor=\"white\", # white background\n",
    "        font_size=16, # label font size\n",
    "        font_family=\"Rockwell\",\n",
    "    )\n",
    ")\n",
    "\n",
    "fig.show()"
   ]
  },
  {
   "cell_type": "code",
   "execution_count": null,
   "metadata": {},
   "outputs": [],
   "source": [
    "tokyo_sections = gpd.read_file('Datasets/japan transportation/tokyo_sections.geojson')\n",
    "tokyo_stations = gpd.read_file('Datasets/japan transportation/tokyo_stations.geojson')\n",
    "tokyo_lines = pd.read_json(\"Datasets/japan transportation/tokyo_lines_systems_and_modes.json\")"
   ]
  },
  {
   "cell_type": "code",
   "execution_count": null,
   "metadata": {},
   "outputs": [],
   "source": [
    "for dataset in [tokyo_sections, tokyo_stations, tokyo_lines]:\n",
    "    display(dataset)"
   ]
  },
  {
   "cell_type": "code",
   "execution_count": null,
   "metadata": {},
   "outputs": [],
   "source": [
    "import shapely.geometry\n",
    "import wget\n",
    "\n",
    "lats = []\n",
    "lons = []\n",
    "ids = []\n",
    "\n",
    "for feature, id in zip(tokyo_sections.geometry, tokyo_sections.id):\n",
    "    if isinstance(feature, shapely.geometry.linestring.LineString):\n",
    "        linestrings = [feature]\n",
    "    elif isinstance(feature, shapely.geometry.multilinestring.MultiLineString):\n",
    "        linestrings = feature.geoms\n",
    "    else:\n",
    "        continue\n",
    "    for linestring in linestrings:\n",
    "        x, y = linestring.xy\n",
    "        lats = np.append(lats, y)\n",
    "        lons = np.append(lons, x)\n",
    "        ids = np.append(ids, [id]*len(y))\n",
    "        lats = np.append(lats, None)\n",
    "        lons = np.append(lons, None)\n",
    "        ids = np.append(ids, None)\n",
    "\n",
    "# Scatter Map\n",
    "mapbox_access_token = open(\".mapbox_token\").read()\n",
    "\n",
    "# Figures\n",
    "fig = go.Figure()\n",
    "fig.add_trace(\n",
    "    go.Scattermapbox(\n",
    "        lat=tokyo_stations.geometry.y,\n",
    "        lon=tokyo_stations.geometry.x,\n",
    "        name='Tokyo metro stations',\n",
    "        mode='markers',\n",
    "        marker=go.scattermapbox.Marker(\n",
    "            size=5,\n",
    "            opacity=0.5,\n",
    "            color='darkseagreen'\n",
    "        ),\n",
    "        hovertemplate=\n",
    "        '<i>Latitude</i>: %{lat:.3f}'+\n",
    "        '<br><i>Longitude</i>: %{lon:.3f}<br>' +\n",
    "        '<b>%{text[0]}</b>' +\n",
    "        '<br><b>%{text[1]}</b>',\n",
    "        text=tokyo_stations[['name', 'lines']]\n",
    "    )\n",
    ")\n",
    "fig.add_trace(\n",
    "    go.Scattermapbox(\n",
    "        lat=lats,\n",
    "        lon=lons,\n",
    "        name='Bus stops',\n",
    "        mode='markers+lines',\n",
    "        marker=go.scattermapbox.Marker(\n",
    "            size=3,\n",
    "            opacity=0.5,\n",
    "            color='darkseagreen'\n",
    "        ),\n",
    "        hovertemplate=\n",
    "        '<i>Latitude</i>: %{lat:.3f}'+\n",
    "        '<br><i>Longitude</i>: %{lon:.3f}<br>' +\n",
    "        '<i>ID</i>: %{text}',\n",
    "        text=ids\n",
    "    )\n",
    ")\n",
    "\n",
    "# Create the buttons\n",
    "dropdown_buttons = [\n",
    "{'label': \"ALL\", 'method': \"update\", 'args': [{\"visible\": [True, True, True]}, {\"title\": \"ALL\"}]},\n",
    "{'label': \"Tokyo metro stations\", 'method': \"update\", 'args': [{\"visible\": [True, False, False]}, {\"title\": \"Tokyo metro stations\"}]},\n",
    "{'label': \"Tokyo metro sections\", 'method': \"update\", 'args': [{\"visible\": [False, True, False]}, {\"title\": \"Tokyo metro sections\"}]}\n",
    "]\n",
    "\n",
    "# Figure layout\n",
    "fig.update_layout(\n",
    "    autosize=False,\n",
    "    width=1400,\n",
    "    height=700,\n",
    "    hovermode='closest',\n",
    "    mapbox_style=\"mapbox://styles/tarnishedhunter/clde0tvs1003s01mk55yaku0z\",\n",
    "    mapbox=dict(\n",
    "        accesstoken=mapbox_access_token,\n",
    "        bearing=0,\n",
    "        center=go.layout.mapbox.Center(\n",
    "            lat=35.6762,\n",
    "            lon=139.6503\n",
    "        ),\n",
    "        pitch=0,\n",
    "        zoom=10\n",
    "    ),\n",
    "    margin={\"r\":0,\"t\":0,\"l\":0,\"b\":0}, # remove the white gutter between the frame and map\n",
    "    hoverlabel=dict(\n",
    "        bgcolor=\"white\", # white background\n",
    "        font_size=16, # label font size\n",
    "        font_family=\"Rockwell\",\n",
    "\n",
    "    ),\n",
    "    legend=dict(\n",
    "        title=\"Colour Codes for Locations\",\n",
    "        entrywidth=0.3,\n",
    "        orientation=\"h\",\n",
    "        yanchor=\"top\",\n",
    "        y=0.99,\n",
    "        xanchor=\"left\",\n",
    "        x=0.01,\n",
    "        font=dict(\n",
    "            family=\"Rockwell\",\n",
    "            size=14,\n",
    "            color=\"black\"\n",
    "        ),\n",
    "        bgcolor=\"azure\",\n",
    "        bordercolor=\"Grey\",\n",
    "        borderwidth=2\n",
    "    ),\n",
    "    updatemenus=[\n",
    "        dict(\n",
    "            buttons=dropdown_buttons,\n",
    "            direction=\"down\",\n",
    "            pad={\"r\": 0, \"t\": 0, \"l\":0,\"b\":0},\n",
    "            showactive=True,\n",
    "            x=1,\n",
    "            xanchor=\"right\",\n",
    "            y=0.95,\n",
    "            yanchor=\"top\",\n",
    "            font=dict(\n",
    "                size=14,\n",
    "                color=\"black\"\n",
    "            )\n",
    "        ),\n",
    "    ]\n",
    ")\n",
    "fig.show()"
   ]
  }
 ],
 "metadata": {
  "kernelspec": {
   "display_name": "Python 3 (ipykernel)",
   "language": "python",
   "name": "python3"
  },
  "language_info": {
   "codemirror_mode": {
    "name": "ipython",
    "version": 3
   },
   "file_extension": ".py",
   "mimetype": "text/x-python",
   "name": "python",
   "nbconvert_exporter": "python",
   "pygments_lexer": "ipython3",
   "version": "3.10.5"
  },
  "vscode": {
   "interpreter": {
    "hash": "99f98b4dc55239bdb2ec6846f56868b6ba29009c924e09af0403ac75e376d43e"
   }
  }
 },
 "nbformat": 4,
 "nbformat_minor": 2
}
